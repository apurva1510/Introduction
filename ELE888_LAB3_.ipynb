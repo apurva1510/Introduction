{
  "nbformat": 4,
  "nbformat_minor": 0,
  "metadata": {
    "colab": {
      "name": "ELE888_LAB3 .ipynb",
      "provenance": [],
      "collapsed_sections": []
    },
    "kernelspec": {
      "name": "python3",
      "display_name": "Python 3"
    },
    "language_info": {
      "name": "python"
    }
  },
  "cells": [
    {
      "cell_type": "code",
      "metadata": {
        "id": "1mDMndxKLAuh"
      },
      "source": [
        "# Importing all the important libraries for this lab :\n",
        "import tensorflow as tf # This library is used for Machine Learning related coding\n",
        "from tensorflow import keras # Specifically used to work with Neural Networks\n",
        "from tensorflow.keras import layers # Layer is the building block for a neural network\n",
        "import numpy as np # This lib. is imported to use functions like summation and linear algebric functions\n",
        "import pandas as pd # This lib. is used for Data analysis (Arrays in our case)\n",
        "import matplotlib.pyplot as plt # for plotting # Used for plotting\n"
      ],
      "execution_count": 1,
      "outputs": []
    },
    {
      "cell_type": "code",
      "metadata": {
        "id": "W9oFEYQ5jfei"
      },
      "source": [
        "#Q1. Write a function to create x and y values that follows the given function above. Provide initial plot of the function.\n",
        "def XYFunc(n): # 'n' is the number of values to be generated\n",
        "  x = np.random.uniform(-1.0, 1.0, n) # Here 'n' values for x between -1 and 1\n",
        "  y = 0.2*x**4 + 2*x**3 + 0.1*x**2 + 10 # generate corresponding y values\n",
        "  data_dic = {\"x\": x, \"y\": y} # create a data dictionary for x and y\n",
        "  df = pd.DataFrame(data_dic) # convert the data dictionary into a dataframe\n",
        "  return (df)\n",
        "df= XYFunc(30000)"
      ],
      "execution_count": 2,
      "outputs": []
    },
    {
      "cell_type": "code",
      "metadata": {
        "id": "5VHk6HnwjiQP"
      },
      "source": [
        "# df --> It is the dataframe that contains x and y as the output of our functions\n",
        "# Initial PLot\n",
        "def XYplot(df, title, xlabel, ylabel):\n",
        "  plt.scatter(mydf['x'],mydf['y'])\n",
        "  plt.title(title)\n",
        "  plt.xlabel(xlabel)\n",
        "  plt.ylabel(ylabel)\n",
        "  plt.show()"
      ],
      "execution_count": 3,
      "outputs": []
    },
    {
      "cell_type": "code",
      "metadata": {
        "id": "SdJG4Gv3jlDq"
      },
      "source": [
        "#Q2. Write a function that accepts an argument to indicate shuffling. Based on the argument, function has to return the shuffled data or data without shuffling.\n",
        "def get_dataset (argument):\n",
        "  df = XYFunc(30000) # Takes the 30000 samples and shuffles them by taking an argument \n",
        "  if (argument == True):\n",
        "    df = df.sample(frac=1) #Here, frac returns a boolean value\n",
        "  return df\n",
        "  df=get_dataset(argument== True) "
      ],
      "execution_count": 4,
      "outputs": []
    },
    {
      "cell_type": "code",
      "metadata": {
        "id": "SxfyIQf9jp3S"
      },
      "source": [
        "# Write a function to split the data into train, validation, and test sets. The function should be able to accept the data and ratios of train, validation, and test data.\n",
        "def splitData (df, train_r, valid_r, test_r): # Takes 3 parameters to train test and validate our data by splitting them into 3 arrays\n",
        "  \n",
        "  train_df = df.sample(frac=train_r) # Assigning a sample from original data\n",
        "  # Drops all the samples generated for training and validation respectively and then Assigns a sample from the remaining data\n",
        "  df = df.drop(train_df.index) \n",
        "  valid_df = df.sample(frac=valid_r) \n",
        "  df = df.drop(valid_df.index) \n",
        "  test_df = df # This dataframe gives us the remaining rows \n",
        "\n",
        "  return train_df,valid_df, test_df # Three dataframes with shape : 9000/4200/16800"
      ],
      "execution_count": 4,
      "outputs": []
    },
    {
      "cell_type": "code",
      "metadata": {
        "id": "5PDOvSTkj3nC"
      },
      "source": [
        "# Mean Absoulte Error implementation \n",
        "def mae(actual, predicted):\n",
        "  sum_error = 0.0 # Initialize the sum with 0\n",
        "  for i in range(len(actual)): # For loop to traverse through the array of data stored which is being tested (x_test or y_test) \n",
        "      sum_error += abs(predicted[i] - actual[i]) \n",
        "      mae_error = sum_error / float(len(actual))\n",
        "  return mae_error\n"
      ],
      "execution_count": 5,
      "outputs": []
    },
    {
      "cell_type": "code",
      "metadata": {
        "id": "UG7biobFj5eD"
      },
      "source": [
        "# MSE implementation \n",
        "def mse(actual, predicted): \n",
        "  sum_error = 0.0\n",
        "  for i in range(len(actual)):\n",
        "    prediction_error = predicted[i] - actual[i]\n",
        "    sum_error += (prediction_error ** 2)\n",
        "    mean_error = sum_error / float(len(actual))\n",
        "  return mean_error"
      ],
      "execution_count": 6,
      "outputs": []
    },
    {
      "cell_type": "code",
      "metadata": {
        "id": "RdHZNYfAj7_Q"
      },
      "source": [
        "# RMSE implementation\n",
        "# Calculate root mean squared error\n",
        "def rmse(actual, predicted):\n",
        "\tsum_error = 0.0\n",
        "\tfor i in range(len(actual)):\n",
        "\t\tprediction_error = predicted[i] - actual[i]\n",
        "\t\tsum_error += (prediction_error ** 2)\n",
        "\tmean_error = sum_error / float(len(actual))\n",
        "\treturn (mean_error)**0.5"
      ],
      "execution_count": 7,
      "outputs": []
    },
    {
      "cell_type": "code",
      "metadata": {
        "id": "m-jkDo6nLXaw"
      },
      "source": [
        "# r2_square implementation\n",
        "def r2_square(actual, predicted):\n",
        "  var1 = 0 # Total Variance by model\n",
        "  var2 = 0 # Total Variance \n",
        "  r2s = 1\n",
        "  for i in range(len(actual)):\n",
        "    var1 += ((predicted[i] - actual[i]) **2)\n",
        "    var2 += ((actual[i] - np.mean(actual))**2)\n",
        "  return (r2s - var1/var2)"
      ],
      "execution_count": 8,
      "outputs": []
    },
    {
      "cell_type": "code",
      "metadata": {
        "id": "C_gechT9juU2"
      },
      "source": [
        "# Scaling implementation\n",
        "# scaling is: (x - min(x))/(max(x) - min(x))\n",
        "def scaleData(df):\n",
        "  xstd = (df['x']-min(df['x']))/(max(df['x'])-min(df['x'])) # Defined w.r.t the formula \n",
        "  # Store the standardized values back in the dataframe\n",
        "  df['x'] = xstd\n",
        "  return df\n",
        "df=scaleData(df)"
      ],
      "execution_count": 28,
      "outputs": []
    },
    {
      "cell_type": "code",
      "metadata": {
        "id": "CfjROGCTX9vu"
      },
      "source": [
        "train_df,valid_df, test_df=splitData (df, 0.3, 0.2, 0.5)\n",
        "# Gives us the 6 datasets (3 for X and 3 for Y ) "
      ],
      "execution_count": 29,
      "outputs": []
    },
    {
      "cell_type": "code",
      "metadata": {
        "colab": {
          "base_uri": "https://localhost:8080/"
        },
        "id": "8n8ldL99Zn3z",
        "outputId": "909a937a-8ebe-47d8-d80b-d85c3b3e590c"
      },
      "source": [
        "x_train = train_df.iloc[:, 0]\n",
        "x_train"
      ],
      "execution_count": 30,
      "outputs": [
        {
          "output_type": "execute_result",
          "data": {
            "text/plain": [
              "11150    0.456518\n",
              "17418    0.293384\n",
              "8836     0.775915\n",
              "3286     0.212595\n",
              "17507    0.149143\n",
              "           ...   \n",
              "2460     0.456917\n",
              "12216    0.223026\n",
              "7492     0.865267\n",
              "27238    0.555956\n",
              "12901    0.310084\n",
              "Name: x, Length: 9000, dtype: float64"
            ]
          },
          "metadata": {
            "tags": []
          },
          "execution_count": 30
        }
      ]
    },
    {
      "cell_type": "code",
      "metadata": {
        "colab": {
          "base_uri": "https://localhost:8080/"
        },
        "id": "WrbPHRzxZ8i8",
        "outputId": "a318888a-9c57-40eb-d846-3d65c378203f"
      },
      "source": [
        "x_test = test_df.iloc[:, 0]\n",
        "x_test\n"
      ],
      "execution_count": 31,
      "outputs": [
        {
          "output_type": "execute_result",
          "data": {
            "text/plain": [
              "2        0.807103\n",
              "3        0.213354\n",
              "6        0.254889\n",
              "9        0.460491\n",
              "11       0.268781\n",
              "           ...   \n",
              "29994    0.337026\n",
              "29996    0.908046\n",
              "29997    0.376885\n",
              "29998    0.291001\n",
              "29999    0.568771\n",
              "Name: x, Length: 16800, dtype: float64"
            ]
          },
          "metadata": {
            "tags": []
          },
          "execution_count": 31
        }
      ]
    },
    {
      "cell_type": "code",
      "metadata": {
        "colab": {
          "base_uri": "https://localhost:8080/"
        },
        "id": "GtvGygWaaJAx",
        "outputId": "d026f836-ac18-40b3-e9aa-222eea9055c6"
      },
      "source": [
        "x_valid = valid_df.iloc[:, 0]\n",
        "x_valid"
      ],
      "execution_count": 32,
      "outputs": [
        {
          "output_type": "execute_result",
          "data": {
            "text/plain": [
              "26776    0.054924\n",
              "9454     0.983559\n",
              "26956    0.186457\n",
              "18271    0.478594\n",
              "17856    0.749276\n",
              "           ...   \n",
              "15979    0.690865\n",
              "4156     0.764874\n",
              "23909    0.741586\n",
              "9832     0.445438\n",
              "20690    0.140962\n",
              "Name: x, Length: 4200, dtype: float64"
            ]
          },
          "metadata": {
            "tags": []
          },
          "execution_count": 32
        }
      ]
    },
    {
      "cell_type": "code",
      "metadata": {
        "colab": {
          "base_uri": "https://localhost:8080/",
          "height": 417
        },
        "id": "hu6ZjHVkaigF",
        "outputId": "0c5cc4ed-252a-4b3f-ca19-ce1d89b205a5"
      },
      "source": [
        "y_train = train_df.iloc[:,-1:]\n",
        "y_train"
      ],
      "execution_count": 33,
      "outputs": [
        {
          "output_type": "execute_result",
          "data": {
            "text/html": [
              "<div>\n",
              "<style scoped>\n",
              "    .dataframe tbody tr th:only-of-type {\n",
              "        vertical-align: middle;\n",
              "    }\n",
              "\n",
              "    .dataframe tbody tr th {\n",
              "        vertical-align: top;\n",
              "    }\n",
              "\n",
              "    .dataframe thead th {\n",
              "        text-align: right;\n",
              "    }\n",
              "</style>\n",
              "<table border=\"1\" class=\"dataframe\">\n",
              "  <thead>\n",
              "    <tr style=\"text-align: right;\">\n",
              "      <th></th>\n",
              "      <th>y</th>\n",
              "    </tr>\n",
              "  </thead>\n",
              "  <tbody>\n",
              "    <tr>\n",
              "      <th>11150</th>\n",
              "      <td>9.999455</td>\n",
              "    </tr>\n",
              "    <tr>\n",
              "      <th>17418</th>\n",
              "      <td>9.881905</td>\n",
              "    </tr>\n",
              "    <tr>\n",
              "      <th>8836</th>\n",
              "      <td>10.385040</td>\n",
              "    </tr>\n",
              "    <tr>\n",
              "      <th>3286</th>\n",
              "      <td>9.675320</td>\n",
              "    </tr>\n",
              "    <tr>\n",
              "      <th>17507</th>\n",
              "      <td>9.407159</td>\n",
              "    </tr>\n",
              "    <tr>\n",
              "      <th>...</th>\n",
              "      <td>...</td>\n",
              "    </tr>\n",
              "    <tr>\n",
              "      <th>2460</th>\n",
              "      <td>9.999476</td>\n",
              "    </tr>\n",
              "    <tr>\n",
              "      <th>12216</th>\n",
              "      <td>9.709812</td>\n",
              "    </tr>\n",
              "    <tr>\n",
              "      <th>7492</th>\n",
              "      <td>10.889896</td>\n",
              "    </tr>\n",
              "    <tr>\n",
              "      <th>27238</th>\n",
              "      <td>10.004092</td>\n",
              "    </tr>\n",
              "    <tr>\n",
              "      <th>12901</th>\n",
              "      <td>9.909093</td>\n",
              "    </tr>\n",
              "  </tbody>\n",
              "</table>\n",
              "<p>9000 rows × 1 columns</p>\n",
              "</div>"
            ],
            "text/plain": [
              "               y\n",
              "11150   9.999455\n",
              "17418   9.881905\n",
              "8836   10.385040\n",
              "3286    9.675320\n",
              "17507   9.407159\n",
              "...          ...\n",
              "2460    9.999476\n",
              "12216   9.709812\n",
              "7492   10.889896\n",
              "27238  10.004092\n",
              "12901   9.909093\n",
              "\n",
              "[9000 rows x 1 columns]"
            ]
          },
          "metadata": {
            "tags": []
          },
          "execution_count": 33
        }
      ]
    },
    {
      "cell_type": "code",
      "metadata": {
        "colab": {
          "base_uri": "https://localhost:8080/",
          "height": 417
        },
        "id": "zc5jFWZgaqgF",
        "outputId": "8e92ccf1-289d-44b6-cc60-3f24d8a60ffd"
      },
      "source": [
        "y_test = test_df.iloc[:,-1:]\n",
        "y_test"
      ],
      "execution_count": 34,
      "outputs": [
        {
          "output_type": "execute_result",
          "data": {
            "text/html": [
              "<div>\n",
              "<style scoped>\n",
              "    .dataframe tbody tr th:only-of-type {\n",
              "        vertical-align: middle;\n",
              "    }\n",
              "\n",
              "    .dataframe tbody tr th {\n",
              "        vertical-align: top;\n",
              "    }\n",
              "\n",
              "    .dataframe thead th {\n",
              "        text-align: right;\n",
              "    }\n",
              "</style>\n",
              "<table border=\"1\" class=\"dataframe\">\n",
              "  <thead>\n",
              "    <tr style=\"text-align: right;\">\n",
              "      <th></th>\n",
              "      <th>y</th>\n",
              "    </tr>\n",
              "  </thead>\n",
              "  <tbody>\n",
              "    <tr>\n",
              "      <th>2</th>\n",
              "      <td>10.529529</td>\n",
              "    </tr>\n",
              "    <tr>\n",
              "      <th>3</th>\n",
              "      <td>9.677917</td>\n",
              "    </tr>\n",
              "    <tr>\n",
              "      <th>6</th>\n",
              "      <td>9.800157</td>\n",
              "    </tr>\n",
              "    <tr>\n",
              "      <th>9</th>\n",
              "      <td>9.999647</td>\n",
              "    </tr>\n",
              "    <tr>\n",
              "      <th>11</th>\n",
              "      <td>9.832914</td>\n",
              "    </tr>\n",
              "    <tr>\n",
              "      <th>...</th>\n",
              "      <td>...</td>\n",
              "    </tr>\n",
              "    <tr>\n",
              "      <th>29994</th>\n",
              "      <td>9.943692</td>\n",
              "    </tr>\n",
              "    <tr>\n",
              "      <th>29996</th>\n",
              "      <td>11.242070</td>\n",
              "    </tr>\n",
              "    <tr>\n",
              "      <th>29997</th>\n",
              "      <td>9.976975</td>\n",
              "    </tr>\n",
              "    <tr>\n",
              "      <th>29998</th>\n",
              "      <td>9.877639</td>\n",
              "    </tr>\n",
              "    <tr>\n",
              "      <th>29999</th>\n",
              "      <td>10.007174</td>\n",
              "    </tr>\n",
              "  </tbody>\n",
              "</table>\n",
              "<p>16800 rows × 1 columns</p>\n",
              "</div>"
            ],
            "text/plain": [
              "               y\n",
              "2      10.529529\n",
              "3       9.677917\n",
              "6       9.800157\n",
              "9       9.999647\n",
              "11      9.832914\n",
              "...          ...\n",
              "29994   9.943692\n",
              "29996  11.242070\n",
              "29997   9.976975\n",
              "29998   9.877639\n",
              "29999  10.007174\n",
              "\n",
              "[16800 rows x 1 columns]"
            ]
          },
          "metadata": {
            "tags": []
          },
          "execution_count": 34
        }
      ]
    },
    {
      "cell_type": "code",
      "metadata": {
        "colab": {
          "base_uri": "https://localhost:8080/",
          "height": 417
        },
        "id": "KdnVTqUJavqH",
        "outputId": "df0238ff-30f6-4d31-d20a-82480cb60fc1"
      },
      "source": [
        "y_valid = valid_df.iloc[:,-1:]\n",
        "y_valid"
      ],
      "execution_count": 35,
      "outputs": [
        {
          "output_type": "execute_result",
          "data": {
            "text/html": [
              "<div>\n",
              "<style scoped>\n",
              "    .dataframe tbody tr th:only-of-type {\n",
              "        vertical-align: middle;\n",
              "    }\n",
              "\n",
              "    .dataframe tbody tr th {\n",
              "        vertical-align: top;\n",
              "    }\n",
              "\n",
              "    .dataframe thead th {\n",
              "        text-align: right;\n",
              "    }\n",
              "</style>\n",
              "<table border=\"1\" class=\"dataframe\">\n",
              "  <thead>\n",
              "    <tr style=\"text-align: right;\">\n",
              "      <th></th>\n",
              "      <th>y</th>\n",
              "    </tr>\n",
              "  </thead>\n",
              "  <tbody>\n",
              "    <tr>\n",
              "      <th>26776</th>\n",
              "      <td>8.795027</td>\n",
              "    </tr>\n",
              "    <tr>\n",
              "      <th>9454</th>\n",
              "      <td>12.077046</td>\n",
              "    </tr>\n",
              "    <tr>\n",
              "      <th>26956</th>\n",
              "      <td>9.577423</td>\n",
              "    </tr>\n",
              "    <tr>\n",
              "      <th>18271</th>\n",
              "      <td>10.000027</td>\n",
              "    </tr>\n",
              "    <tr>\n",
              "      <th>17856</th>\n",
              "      <td>10.285027</td>\n",
              "    </tr>\n",
              "    <tr>\n",
              "      <th>...</th>\n",
              "      <td>...</td>\n",
              "    </tr>\n",
              "    <tr>\n",
              "      <th>15979</th>\n",
              "      <td>10.130077</td>\n",
              "    </tr>\n",
              "    <tr>\n",
              "      <th>4156</th>\n",
              "      <td>10.341114</td>\n",
              "    </tr>\n",
              "    <tr>\n",
              "      <th>23909</th>\n",
              "      <td>10.259831</td>\n",
              "    </tr>\n",
              "    <tr>\n",
              "      <th>9832</th>\n",
              "      <td>9.998625</td>\n",
              "    </tr>\n",
              "    <tr>\n",
              "      <th>20690</th>\n",
              "      <td>9.364722</td>\n",
              "    </tr>\n",
              "  </tbody>\n",
              "</table>\n",
              "<p>4200 rows × 1 columns</p>\n",
              "</div>"
            ],
            "text/plain": [
              "               y\n",
              "26776   8.795027\n",
              "9454   12.077046\n",
              "26956   9.577423\n",
              "18271  10.000027\n",
              "17856  10.285027\n",
              "...          ...\n",
              "15979  10.130077\n",
              "4156   10.341114\n",
              "23909  10.259831\n",
              "9832    9.998625\n",
              "20690   9.364722\n",
              "\n",
              "[4200 rows x 1 columns]"
            ]
          },
          "metadata": {
            "tags": []
          },
          "execution_count": 35
        }
      ]
    },
    {
      "cell_type": "code",
      "metadata": {
        "colab": {
          "base_uri": "https://localhost:8080/",
          "height": 312
        },
        "id": "hnbC5CFdLio-",
        "outputId": "2533328a-2168-4ef2-d4f3-1096e930b04c"
      },
      "source": [
        "mydf = get_dataset(True)\n",
        "scaled_data = scaleData(mydf)\n",
        "train_data, validation_data,test_data = splitData(scaled_data, 0.3, 0.2, 0.5)\n",
        "print(train_data.shape, validation_data.shape, test_data.shape)\n",
        "XYplot(scaled_data, \"y = 0.2x^4 + 2x^3 + 0.1x+2 +10\", \"x axis\", \"y axis\")"
      ],
      "execution_count": 17,
      "outputs": [
        {
          "output_type": "stream",
          "text": [
            "(9000, 2) (4200, 2) (16800, 2)\n"
          ],
          "name": "stdout"
        },
        {
          "output_type": "display_data",
          "data": {
            "image/png": "[encoded data removed]",
            "text/plain": [
              "<Figure size 432x288 with 1 Axes>"
            ]
          },
          "metadata": {
            "tags": [],
            "needs_background": "light"
          }
        }
      ]
    },
    {
      "cell_type": "code",
      "metadata": {
        "id": "AtiHtq7QL2NP"
      },
      "source": [
        "# Three structures to accomodate our 10 cases, each model/structure has its own number of layers and activation function\n",
        "def model1():\n",
        "    model1 = keras.Sequential([\n",
        "    layers.Dense(12, activation = 'relu', input_shape = [len(x_train), 1]),\n",
        "    layers.Dense(8, activation = 'relu'),\n",
        "    layers.Dense(4, activation = 'relu'),\n",
        "    layers.Dense(1)\n",
        "])\n",
        "    model1.compile(loss='mse', optimizer = 'adam', metrics = ['mse'])\n",
        "    return model1\n",
        "\n",
        "\n",
        "\n"
      ],
      "execution_count": 36,
      "outputs": []
    },
    {
      "cell_type": "code",
      "metadata": {
        "id": "swR1NWuJOPo0"
      },
      "source": [
        "def model2():\n",
        "  model2 = keras.Sequential([\n",
        "        layers.Dense(24, activation = 'relu', input_shape = [len(x_train), 1]),\n",
        "        layers.Dense(1)\n",
        "  ])\n",
        "  model2.compile(loss = 'mse', optimizer = 'adam', metrics=['mse'])\n",
        "  return model2"
      ],
      "execution_count": 20,
      "outputs": []
    },
    {
      "cell_type": "code",
      "metadata": {
        "id": "jlb9bAlhZudE"
      },
      "source": [
        "def model3():\n",
        "    model3 = keras.Sequential([\n",
        "    layers.Dense(12, activation = 'tanh', input_shape = [len(x_train), 1]),\n",
        "    layers.Dense(8, activation = 'tanh'),\n",
        "    layers.Dense(4, activation = 'tanh'),\n",
        "    layers.Dense(1)\n",
        "])\n",
        "    model3.compile(loss='mse', optimizer = 'adam', metrics = ['mse'])\n",
        "    return model3"
      ],
      "execution_count": 41,
      "outputs": []
    },
    {
      "cell_type": "code",
      "metadata": {
        "colab": {
          "base_uri": "https://localhost:8080/",
          "height": 1000
        },
        "id": "qCQ0nvSveOsH",
        "outputId": "ef1c2626-6deb-456b-c9ea-396a00584c80"
      },
      "source": [
        "#Case1\n",
        "case_one = model1()\n",
        "case_one.fit(x_train, y_train, epochs = 20, batch_size = 12, validation_data = (x_valid,y_valid))\n",
        "xpredict = case_one.predict(x_test) #.reshape(16800)\n",
        "plt.scatter(x_test,y_test)\n"
      ],
      "execution_count": 18,
      "outputs": [
        {
          "output_type": "stream",
          "text": [
            "Epoch 1/20\n",
            "WARNING:tensorflow:Model was constructed with shape (None, 9000, 1) for input KerasTensor(type_spec=TensorSpec(shape=(None, 9000, 1), dtype=tf.float32, name='dense_input'), name='dense_input', description=\"created by layer 'dense_input'\"), but it was called on an input with incompatible shape (12, 1, 1).\n",
            "WARNING:tensorflow:Model was constructed with shape (None, 9000, 1) for input KerasTensor(type_spec=TensorSpec(shape=(None, 9000, 1), dtype=tf.float32, name='dense_input'), name='dense_input', description=\"created by layer 'dense_input'\"), but it was called on an input with incompatible shape (12, 1, 1).\n",
            "732/750 [============================>.] - ETA: 0s - loss: 24.4208 - mse: 24.4208WARNING:tensorflow:Model was constructed with shape (None, 9000, 1) for input KerasTensor(type_spec=TensorSpec(shape=(None, 9000, 1), dtype=tf.float32, name='dense_input'), name='dense_input', description=\"created by layer 'dense_input'\"), but it was called on an input with incompatible shape (12, 1, 1).\n",
            "750/750 [==============================] - 2s 2ms/step - loss: 23.8425 - mse: 23.8425 - val_loss: 0.2964 - val_mse: 0.2964\n",
            "Epoch 2/20\n",
            "750/750 [==============================] - 1s 2ms/step - loss: 0.1332 - mse: 0.1332 - val_loss: 0.0565 - val_mse: 0.0565\n",
            "Epoch 3/20\n",
            "750/750 [==============================] - 1s 2ms/step - loss: 0.0443 - mse: 0.0443 - val_loss: 0.0394 - val_mse: 0.0394\n",
            "Epoch 4/20\n",
            "750/750 [==============================] - 1s 2ms/step - loss: 0.0354 - mse: 0.0354 - val_loss: 0.0315 - val_mse: 0.0315\n",
            "Epoch 5/20\n",
            "750/750 [==============================] - 1s 2ms/step - loss: 0.0251 - mse: 0.0251 - val_loss: 0.0195 - val_mse: 0.0195\n",
            "Epoch 6/20\n",
            "750/750 [==============================] - 1s 2ms/step - loss: 0.0139 - mse: 0.0139 - val_loss: 0.0101 - val_mse: 0.0101\n",
            "Epoch 7/20\n",
            "750/750 [==============================] - 1s 2ms/step - loss: 0.0073 - mse: 0.0073 - val_loss: 0.0056 - val_mse: 0.0056\n",
            "Epoch 8/20\n",
            "750/750 [==============================] - 1s 2ms/step - loss: 0.0049 - mse: 0.0049 - val_loss: 0.0045 - val_mse: 0.0045\n",
            "Epoch 9/20\n",
            "750/750 [==============================] - 1s 2ms/step - loss: 0.0039 - mse: 0.0039 - val_loss: 0.0043 - val_mse: 0.0043\n",
            "Epoch 10/20\n",
            "750/750 [==============================] - 1s 2ms/step - loss: 0.0036 - mse: 0.0036 - val_loss: 0.0032 - val_mse: 0.0032\n",
            "Epoch 11/20\n",
            "750/750 [==============================] - 1s 2ms/step - loss: 0.0032 - mse: 0.0032 - val_loss: 0.0033 - val_mse: 0.0033\n",
            "Epoch 12/20\n",
            "750/750 [==============================] - 1s 2ms/step - loss: 0.0030 - mse: 0.0030 - val_loss: 0.0037 - val_mse: 0.0037\n",
            "Epoch 13/20\n",
            "750/750 [==============================] - 1s 2ms/step - loss: 0.0029 - mse: 0.0029 - val_loss: 0.0029 - val_mse: 0.0029\n",
            "Epoch 14/20\n",
            "750/750 [==============================] - 1s 2ms/step - loss: 0.0028 - mse: 0.0028 - val_loss: 0.0035 - val_mse: 0.0035\n",
            "Epoch 15/20\n",
            "750/750 [==============================] - 1s 2ms/step - loss: 0.0027 - mse: 0.0027 - val_loss: 0.0024 - val_mse: 0.0024\n",
            "Epoch 16/20\n",
            "750/750 [==============================] - 1s 2ms/step - loss: 0.0026 - mse: 0.0026 - val_loss: 0.0023 - val_mse: 0.0023\n",
            "Epoch 17/20\n",
            "750/750 [==============================] - 1s 2ms/step - loss: 0.0025 - mse: 0.0025 - val_loss: 0.0024 - val_mse: 0.0024\n",
            "Epoch 18/20\n",
            "750/750 [==============================] - 1s 2ms/step - loss: 0.0024 - mse: 0.0024 - val_loss: 0.0022 - val_mse: 0.0022\n",
            "Epoch 19/20\n",
            "750/750 [==============================] - 1s 2ms/step - loss: 0.0024 - mse: 0.0024 - val_loss: 0.0021 - val_mse: 0.0021\n",
            "Epoch 20/20\n",
            "750/750 [==============================] - 1s 2ms/step - loss: 0.0023 - mse: 0.0023 - val_loss: 0.0023 - val_mse: 0.0023\n",
            "WARNING:tensorflow:Model was constructed with shape (None, 9000, 1) for input KerasTensor(type_spec=TensorSpec(shape=(None, 9000, 1), dtype=tf.float32, name='dense_input'), name='dense_input', description=\"created by layer 'dense_input'\"), but it was called on an input with incompatible shape (32, 1, 1).\n"
          ],
          "name": "stdout"
        },
        {
          "output_type": "execute_result",
          "data": {
            "text/plain": [
              "<matplotlib.collections.PathCollection at 0x7f807c8af950>"
            ]
          },
          "metadata": {
            "tags": []
          },
          "execution_count": 18
        },
        {
          "output_type": "display_data",
          "data": {
            "image/png": "[encoded data removed]",
            "text/plain": [
              "<Figure size 432x288 with 1 Axes>"
            ]
          },
          "metadata": {
            "tags": [],
            "needs_background": "light"
          }
        }
      ]
    },
    {
      "cell_type": "code",
      "metadata": {
        "colab": {
          "base_uri": "https://localhost:8080/",
          "height": 282
        },
        "id": "NGRa2w8re32B",
        "outputId": "c0750e59-c8bb-4811-fb9e-f3969f0043ab"
      },
      "source": [
        "plt.scatter(x_test,xpredict.reshape(16800))\n"
      ],
      "execution_count": 19,
      "outputs": [
        {
          "output_type": "execute_result",
          "data": {
            "text/plain": [
              "<matplotlib.collections.PathCollection at 0x7f807d82d310>"
            ]
          },
          "metadata": {
            "tags": []
          },
          "execution_count": 19
        },
        {
          "output_type": "display_data",
          "data": {
            "image/png": "[encoded data removed]",
            "text/plain": [
              "<Figure size 432x288 with 1 Axes>"
            ]
          },
          "metadata": {
            "tags": [],
            "needs_background": "light"
          }
        }
      ]
    },
    {
      "cell_type": "code",
      "metadata": {
        "colab": {
          "base_uri": "https://localhost:8080/"
        },
        "id": "US28Q-AqSH3r",
        "outputId": "0afd7e77-ce64-4df7-8232-d8f752e0359b"
      },
      "source": [
        "y_test=y_test.to_numpy()\n",
        "y_test=y_test.reshape(16800)\n",
        "mae(y_test, xpredict.reshape(16800)),mse(y_test, xpredict.reshape(16800)),rmse(y_test,xpredict.reshape(16800)),r2_square(y_test,xpredict.reshape(16800))"
      ],
      "execution_count": 20,
      "outputs": [
        {
          "output_type": "execute_result",
          "data": {
            "text/plain": [
              "(0.038485976492211416,\n",
              " 0.002282119442128832,\n",
              " 0.047771533805487466,\n",
              " 0.9961378376845187)"
            ]
          },
          "metadata": {
            "tags": []
          },
          "execution_count": 20
        }
      ]
    },
    {
      "cell_type": "code",
      "metadata": {
        "colab": {
          "base_uri": "https://localhost:8080/",
          "height": 1000
        },
        "id": "USDwD02eO30W",
        "outputId": "74c88bfe-d77d-4d80-efcf-c98406fe8868"
      },
      "source": [
        "#Case 2\n",
        "case_two = model2()\n",
        "case_two.fit(x_train, y_train, epochs = 20, batch_size = 12, validation_data = (x_valid,y_valid))\n",
        "xpredict = case_two.predict(x_test) #.reshape(16800)\n",
        "plt.scatter(x_test,y_test)"
      ],
      "execution_count": 22,
      "outputs": [
        {
          "output_type": "stream",
          "text": [
            "Epoch 1/20\n",
            "WARNING:tensorflow:Model was constructed with shape (None, 9000, 1) for input KerasTensor(type_spec=TensorSpec(shape=(None, 9000, 1), dtype=tf.float32, name='dense_4_input'), name='dense_4_input', description=\"created by layer 'dense_4_input'\"), but it was called on an input with incompatible shape (12, 1, 1).\n",
            "WARNING:tensorflow:Model was constructed with shape (None, 9000, 1) for input KerasTensor(type_spec=TensorSpec(shape=(None, 9000, 1), dtype=tf.float32, name='dense_4_input'), name='dense_4_input', description=\"created by layer 'dense_4_input'\"), but it was called on an input with incompatible shape (12, 1, 1).\n",
            "706/750 [===========================>..] - ETA: 0s - loss: 51.3371 - mse: 51.3371WARNING:tensorflow:Model was constructed with shape (None, 9000, 1) for input KerasTensor(type_spec=TensorSpec(shape=(None, 9000, 1), dtype=tf.float32, name='dense_4_input'), name='dense_4_input', description=\"created by layer 'dense_4_input'\"), but it was called on an input with incompatible shape (12, 1, 1).\n",
            "750/750 [==============================] - 1s 1ms/step - loss: 48.5165 - mse: 48.5165 - val_loss: 2.5253 - val_mse: 2.5253\n",
            "Epoch 2/20\n",
            "750/750 [==============================] - 1s 1ms/step - loss: 0.3375 - mse: 0.3375 - val_loss: 0.0958 - val_mse: 0.0958\n",
            "Epoch 3/20\n",
            "750/750 [==============================] - 1s 1ms/step - loss: 0.0878 - mse: 0.0878 - val_loss: 0.0798 - val_mse: 0.0798\n",
            "Epoch 4/20\n",
            "750/750 [==============================] - 1s 1ms/step - loss: 0.0689 - mse: 0.0689 - val_loss: 0.0607 - val_mse: 0.0607\n",
            "Epoch 5/20\n",
            "750/750 [==============================] - 1s 1ms/step - loss: 0.0541 - mse: 0.0541 - val_loss: 0.0504 - val_mse: 0.0504\n",
            "Epoch 6/20\n",
            "750/750 [==============================] - 1s 1ms/step - loss: 0.0464 - mse: 0.0464 - val_loss: 0.0445 - val_mse: 0.0445\n",
            "Epoch 7/20\n",
            "750/750 [==============================] - 1s 1ms/step - loss: 0.0401 - mse: 0.0401 - val_loss: 0.0366 - val_mse: 0.0366\n",
            "Epoch 8/20\n",
            "750/750 [==============================] - 1s 1ms/step - loss: 0.0313 - mse: 0.0313 - val_loss: 0.0267 - val_mse: 0.0267\n",
            "Epoch 9/20\n",
            "750/750 [==============================] - 1s 1ms/step - loss: 0.0215 - mse: 0.0215 - val_loss: 0.0178 - val_mse: 0.0178\n",
            "Epoch 10/20\n",
            "750/750 [==============================] - 1s 1ms/step - loss: 0.0143 - mse: 0.0143 - val_loss: 0.0126 - val_mse: 0.0126\n",
            "Epoch 11/20\n",
            "750/750 [==============================] - 1s 1ms/step - loss: 0.0102 - mse: 0.0102 - val_loss: 0.0090 - val_mse: 0.0090\n",
            "Epoch 12/20\n",
            "750/750 [==============================] - 1s 1ms/step - loss: 0.0076 - mse: 0.0076 - val_loss: 0.0068 - val_mse: 0.0068\n",
            "Epoch 13/20\n",
            "750/750 [==============================] - 1s 1ms/step - loss: 0.0059 - mse: 0.0059 - val_loss: 0.0055 - val_mse: 0.0055\n",
            "Epoch 14/20\n",
            "750/750 [==============================] - 1s 1ms/step - loss: 0.0048 - mse: 0.0048 - val_loss: 0.0047 - val_mse: 0.0047\n",
            "Epoch 15/20\n",
            "750/750 [==============================] - 1s 1ms/step - loss: 0.0041 - mse: 0.0041 - val_loss: 0.0041 - val_mse: 0.0041\n",
            "Epoch 16/20\n",
            "750/750 [==============================] - 1s 1ms/step - loss: 0.0037 - mse: 0.0037 - val_loss: 0.0034 - val_mse: 0.0034\n",
            "Epoch 17/20\n",
            "750/750 [==============================] - 1s 1ms/step - loss: 0.0034 - mse: 0.0034 - val_loss: 0.0034 - val_mse: 0.0034\n",
            "Epoch 18/20\n",
            "750/750 [==============================] - 1s 1ms/step - loss: 0.0033 - mse: 0.0033 - val_loss: 0.0033 - val_mse: 0.0033\n",
            "Epoch 19/20\n",
            "750/750 [==============================] - 1s 1ms/step - loss: 0.0032 - mse: 0.0032 - val_loss: 0.0031 - val_mse: 0.0031\n",
            "Epoch 20/20\n",
            "750/750 [==============================] - 1s 1ms/step - loss: 0.0032 - mse: 0.0032 - val_loss: 0.0031 - val_mse: 0.0031\n",
            "WARNING:tensorflow:Model was constructed with shape (None, 9000, 1) for input KerasTensor(type_spec=TensorSpec(shape=(None, 9000, 1), dtype=tf.float32, name='dense_4_input'), name='dense_4_input', description=\"created by layer 'dense_4_input'\"), but it was called on an input with incompatible shape (32, 1, 1).\n"
          ],
          "name": "stdout"
        },
        {
          "output_type": "execute_result",
          "data": {
            "text/plain": [
              "<matplotlib.collections.PathCollection at 0x7f807c8feed0>"
            ]
          },
          "metadata": {
            "tags": []
          },
          "execution_count": 22
        },
        {
          "output_type": "display_data",
          "data": {
            "image/png": "[encoded data removed]",
            "text/plain": [
              "<Figure size 432x288 with 1 Axes>"
            ]
          },
          "metadata": {
            "tags": [],
            "needs_background": "light"
          }
        }
      ]
    },
    {
      "cell_type": "code",
      "metadata": {
        "colab": {
          "base_uri": "https://localhost:8080/",
          "height": 282
        },
        "id": "7NE9gDgUSzwc",
        "outputId": "684ed11b-c9c0-42de-afb6-4e47c1a1721c"
      },
      "source": [
        "plt.scatter(x_test,xpredict.reshape(16800))"
      ],
      "execution_count": 23,
      "outputs": [
        {
          "output_type": "execute_result",
          "data": {
            "text/plain": [
              "<matplotlib.collections.PathCollection at 0x7f807d344350>"
            ]
          },
          "metadata": {
            "tags": []
          },
          "execution_count": 23
        },
        {
          "output_type": "display_data",
          "data": {
            "image/png": "[encoded data removed]",
            "text/plain": [
              "<Figure size 432x288 with 1 Axes>"
            ]
          },
          "metadata": {
            "tags": [],
            "needs_background": "light"
          }
        }
      ]
    },
    {
      "cell_type": "code",
      "metadata": {
        "colab": {
          "base_uri": "https://localhost:8080/"
        },
        "id": "xmlV0laan9yq",
        "outputId": "e50578e4-5b64-40e2-f929-602bd88b6c8f"
      },
      "source": [
        "#y_test=y_test.to_numpy()\n",
        "y_test=y_test.reshape(16800)\n",
        "mae(y_test, xpredict.reshape(16800)),mse(y_test, xpredict.reshape(16800)),rmse(y_test,xpredict.reshape(16800)),r2_square(y_test,xpredict.reshape(16800))"
      ],
      "execution_count": 25,
      "outputs": [
        {
          "output_type": "execute_result",
          "data": {
            "text/plain": [
              "(0.038642019567085864,\n",
              " 0.0030049478919234127,\n",
              " 0.05481740500902439,\n",
              " 0.9949145534217326)"
            ]
          },
          "metadata": {
            "tags": []
          },
          "execution_count": 25
        }
      ]
    },
    {
      "cell_type": "code",
      "metadata": {
        "colab": {
          "base_uri": "https://localhost:8080/",
          "height": 1000
        },
        "id": "xavyHRxZYfVJ",
        "outputId": "4302ce2e-b2b3-40ed-e313-7a9a593d543f"
      },
      "source": [
        "#Case 3\n",
        "case_three = model3()\n",
        "case_three.fit(x_train, y_train, epochs = 20, batch_size = 12, validation_data = (x_valid,y_valid))\n",
        "xpredict = case_three.predict(x_test) #.reshape(16800)\n",
        "plt.scatter(x_test,y_test)"
      ],
      "execution_count": 27,
      "outputs": [
        {
          "output_type": "stream",
          "text": [
            "Epoch 1/20\n",
            "WARNING:tensorflow:Model was constructed with shape (None, 9000, 1) for input KerasTensor(type_spec=TensorSpec(shape=(None, 9000, 1), dtype=tf.float32, name='dense_6_input'), name='dense_6_input', description=\"created by layer 'dense_6_input'\"), but it was called on an input with incompatible shape (12, 1, 1).\n",
            "WARNING:tensorflow:Model was constructed with shape (None, 9000, 1) for input KerasTensor(type_spec=TensorSpec(shape=(None, 9000, 1), dtype=tf.float32, name='dense_6_input'), name='dense_6_input', description=\"created by layer 'dense_6_input'\"), but it was called on an input with incompatible shape (12, 1, 1).\n",
            "740/750 [============================>.] - ETA: 0s - loss: 44.8959 - mse: 44.8959WARNING:tensorflow:Model was constructed with shape (None, 9000, 1) for input KerasTensor(type_spec=TensorSpec(shape=(None, 9000, 1), dtype=tf.float32, name='dense_6_input'), name='dense_6_input', description=\"created by layer 'dense_6_input'\"), but it was called on an input with incompatible shape (12, 1, 1).\n",
            "750/750 [==============================] - 2s 2ms/step - loss: 44.5353 - mse: 44.5353 - val_loss: 18.9170 - val_mse: 18.9170\n",
            "Epoch 2/20\n",
            "750/750 [==============================] - 1s 2ms/step - loss: 9.9171 - mse: 9.9171 - val_loss: 4.0708 - val_mse: 4.0708\n",
            "Epoch 3/20\n",
            "750/750 [==============================] - 1s 2ms/step - loss: 2.0036 - mse: 2.0036 - val_loss: 0.8948 - val_mse: 0.8948\n",
            "Epoch 4/20\n",
            "750/750 [==============================] - 1s 2ms/step - loss: 0.6743 - mse: 0.6743 - val_loss: 0.5776 - val_mse: 0.5776\n",
            "Epoch 5/20\n",
            "750/750 [==============================] - 1s 2ms/step - loss: 0.5542 - mse: 0.5542 - val_loss: 0.3592 - val_mse: 0.3592\n",
            "Epoch 6/20\n",
            "750/750 [==============================] - 1s 2ms/step - loss: 0.2681 - mse: 0.2681 - val_loss: 0.2112 - val_mse: 0.2112\n",
            "Epoch 7/20\n",
            "750/750 [==============================] - 1s 2ms/step - loss: 0.1602 - mse: 0.1602 - val_loss: 0.1095 - val_mse: 0.1095\n",
            "Epoch 8/20\n",
            "750/750 [==============================] - 1s 2ms/step - loss: 0.0676 - mse: 0.0676 - val_loss: 0.0405 - val_mse: 0.0405\n",
            "Epoch 9/20\n",
            "750/750 [==============================] - 1s 2ms/step - loss: 0.0247 - mse: 0.0247 - val_loss: 0.0160 - val_mse: 0.0160\n",
            "Epoch 10/20\n",
            "750/750 [==============================] - 1s 2ms/step - loss: 0.0103 - mse: 0.0103 - val_loss: 0.0074 - val_mse: 0.0074\n",
            "Epoch 11/20\n",
            "750/750 [==============================] - 1s 2ms/step - loss: 0.0050 - mse: 0.0050 - val_loss: 0.0040 - val_mse: 0.0040\n",
            "Epoch 12/20\n",
            "750/750 [==============================] - 1s 2ms/step - loss: 0.0030 - mse: 0.0030 - val_loss: 0.0026 - val_mse: 0.0026\n",
            "Epoch 13/20\n",
            "750/750 [==============================] - 1s 2ms/step - loss: 0.0021 - mse: 0.0021 - val_loss: 0.0020 - val_mse: 0.0020\n",
            "Epoch 14/20\n",
            "750/750 [==============================] - 1s 2ms/step - loss: 0.0015 - mse: 0.0015 - val_loss: 0.0012 - val_mse: 0.0012\n",
            "Epoch 15/20\n",
            "750/750 [==============================] - 1s 2ms/step - loss: 0.0010 - mse: 0.0010 - val_loss: 8.4382e-04 - val_mse: 8.4382e-04\n",
            "Epoch 16/20\n",
            "750/750 [==============================] - 1s 2ms/step - loss: 7.5710e-04 - mse: 7.5710e-04 - val_loss: 5.5540e-04 - val_mse: 5.5540e-04\n",
            "Epoch 17/20\n",
            "750/750 [==============================] - 1s 2ms/step - loss: 6.0448e-04 - mse: 6.0448e-04 - val_loss: 4.1561e-04 - val_mse: 4.1561e-04\n",
            "Epoch 18/20\n",
            "750/750 [==============================] - 1s 2ms/step - loss: 4.2093e-04 - mse: 4.2093e-04 - val_loss: 3.2840e-04 - val_mse: 3.2840e-04\n",
            "Epoch 19/20\n",
            "750/750 [==============================] - 1s 2ms/step - loss: 3.5248e-04 - mse: 3.5248e-04 - val_loss: 2.4789e-04 - val_mse: 2.4789e-04\n",
            "Epoch 20/20\n",
            "750/750 [==============================] - 1s 2ms/step - loss: 3.4531e-04 - mse: 3.4531e-04 - val_loss: 3.3776e-04 - val_mse: 3.3776e-04\n",
            "WARNING:tensorflow:Model was constructed with shape (None, 9000, 1) for input KerasTensor(type_spec=TensorSpec(shape=(None, 9000, 1), dtype=tf.float32, name='dense_6_input'), name='dense_6_input', description=\"created by layer 'dense_6_input'\"), but it was called on an input with incompatible shape (32, 1, 1).\n"
          ],
          "name": "stdout"
        },
        {
          "output_type": "execute_result",
          "data": {
            "text/plain": [
              "<matplotlib.collections.PathCollection at 0x7f807b654b50>"
            ]
          },
          "metadata": {
            "tags": []
          },
          "execution_count": 27
        },
        {
          "output_type": "display_data",
          "data": {
            "image/png": "[encoded data removed]",
            "text/plain": [
              "<Figure size 432x288 with 1 Axes>"
            ]
          },
          "metadata": {
            "tags": [],
            "needs_background": "light"
          }
        }
      ]
    },
    {
      "cell_type": "code",
      "metadata": {
        "colab": {
          "base_uri": "https://localhost:8080/",
          "height": 282
        },
        "id": "erLIosjaghlH",
        "outputId": "1b6f5ca8-5aad-4900-aa9c-e0f0f4aa14c4"
      },
      "source": [
        "plt.scatter(x_test,xpredict.reshape(16800))"
      ],
      "execution_count": 28,
      "outputs": [
        {
          "output_type": "execute_result",
          "data": {
            "text/plain": [
              "<matplotlib.collections.PathCollection at 0x7f8079d0c710>"
            ]
          },
          "metadata": {
            "tags": []
          },
          "execution_count": 28
        },
        {
          "output_type": "display_data",
          "data": {
            "image/png": "[encoded data removed]",
            "text/plain": [
              "<Figure size 432x288 with 1 Axes>"
            ]
          },
          "metadata": {
            "tags": [],
            "needs_background": "light"
          }
        }
      ]
    },
    {
      "cell_type": "code",
      "metadata": {
        "colab": {
          "base_uri": "https://localhost:8080/"
        },
        "id": "ZIIqMkJ3pWbZ",
        "outputId": "9c2857ec-2b2b-4da7-a73b-e381862b80bc"
      },
      "source": [
        "#y_test=y_test.to_numpy()\n",
        "y_test=y_test.reshape(16800)\n",
        "mae(y_test, xpredict.reshape(16800)),mse(y_test, xpredict.reshape(16800)),rmse(y_test,xpredict.reshape(16800)),r2_square(y_test,xpredict.reshape(16800))"
      ],
      "execution_count": 30,
      "outputs": [
        {
          "output_type": "execute_result",
          "data": {
            "text/plain": [
              "(0.013625749671120733,\n",
              " 0.0003338696075568513,\n",
              " 0.01827209915573061,\n",
              " 0.9994349732127132)"
            ]
          },
          "metadata": {
            "tags": []
          },
          "execution_count": 30
        }
      ]
    },
    {
      "cell_type": "code",
      "metadata": {
        "colab": {
          "base_uri": "https://localhost:8080/",
          "height": 1000
        },
        "id": "6TIWtTCYjFOf",
        "outputId": "035b739c-9394-455b-bf8c-318c21a0b784"
      },
      "source": [
        "#Case 4\n",
        "case_four = model1()\n",
        "case_four.fit(x_train, y_train, epochs = 20, batch_size = 12, validation_data = (x_valid,y_valid))\n",
        "xpredict = case_four.predict(x_test) #.reshape(16800)\n",
        "plt.scatter(x_test,y_test)"
      ],
      "execution_count": 40,
      "outputs": [
        {
          "output_type": "stream",
          "text": [
            "Epoch 1/20\n",
            "WARNING:tensorflow:Model was constructed with shape (None, 9000, 1) for input KerasTensor(type_spec=TensorSpec(shape=(None, 9000, 1), dtype=tf.float32, name='dense_10_input'), name='dense_10_input', description=\"created by layer 'dense_10_input'\"), but it was called on an input with incompatible shape (12, 1, 1).\n",
            "WARNING:tensorflow:Model was constructed with shape (None, 9000, 1) for input KerasTensor(type_spec=TensorSpec(shape=(None, 9000, 1), dtype=tf.float32, name='dense_10_input'), name='dense_10_input', description=\"created by layer 'dense_10_input'\"), but it was called on an input with incompatible shape (12, 1, 1).\n",
            "711/750 [===========================>..] - ETA: 0s - loss: 23.6640 - mse: 23.6640WARNING:tensorflow:Model was constructed with shape (None, 9000, 1) for input KerasTensor(type_spec=TensorSpec(shape=(None, 9000, 1), dtype=tf.float32, name='dense_10_input'), name='dense_10_input', description=\"created by layer 'dense_10_input'\"), but it was called on an input with incompatible shape (12, 1, 1).\n",
            "750/750 [==============================] - 2s 2ms/step - loss: 22.4758 - mse: 22.4758 - val_loss: 0.7328 - val_mse: 0.7328\n",
            "Epoch 2/20\n",
            "750/750 [==============================] - 1s 2ms/step - loss: 0.3375 - mse: 0.3375 - val_loss: 0.1322 - val_mse: 0.1322\n",
            "Epoch 3/20\n",
            "750/750 [==============================] - 1s 2ms/step - loss: 0.1032 - mse: 0.1032 - val_loss: 0.0921 - val_mse: 0.0921\n",
            "Epoch 4/20\n",
            "750/750 [==============================] - 1s 2ms/step - loss: 0.0928 - mse: 0.0928 - val_loss: 0.0894 - val_mse: 0.0894\n",
            "Epoch 5/20\n",
            "750/750 [==============================] - 1s 2ms/step - loss: 0.0913 - mse: 0.0913 - val_loss: 0.0900 - val_mse: 0.0900\n",
            "Epoch 6/20\n",
            "750/750 [==============================] - 1s 2ms/step - loss: 0.0909 - mse: 0.0909 - val_loss: 0.0876 - val_mse: 0.0876\n",
            "Epoch 7/20\n",
            "750/750 [==============================] - 1s 2ms/step - loss: 0.0900 - mse: 0.0900 - val_loss: 0.0866 - val_mse: 0.0866\n",
            "Epoch 8/20\n",
            "750/750 [==============================] - 1s 2ms/step - loss: 0.0908 - mse: 0.0908 - val_loss: 0.0964 - val_mse: 0.0964\n",
            "Epoch 9/20\n",
            "750/750 [==============================] - 1s 2ms/step - loss: 0.0900 - mse: 0.0900 - val_loss: 0.0928 - val_mse: 0.0928\n",
            "Epoch 10/20\n",
            "750/750 [==============================] - 1s 2ms/step - loss: 0.0899 - mse: 0.0899 - val_loss: 0.0858 - val_mse: 0.0858\n",
            "Epoch 11/20\n",
            "750/750 [==============================] - 1s 2ms/step - loss: 0.0886 - mse: 0.0886 - val_loss: 0.0861 - val_mse: 0.0861\n",
            "Epoch 12/20\n",
            "750/750 [==============================] - 1s 2ms/step - loss: 0.0885 - mse: 0.0885 - val_loss: 0.0904 - val_mse: 0.0904\n",
            "Epoch 13/20\n",
            "750/750 [==============================] - 1s 2ms/step - loss: 0.0893 - mse: 0.0893 - val_loss: 0.0871 - val_mse: 0.0871\n",
            "Epoch 14/20\n",
            "750/750 [==============================] - 1s 2ms/step - loss: 0.0895 - mse: 0.0895 - val_loss: 0.0875 - val_mse: 0.0875\n",
            "Epoch 15/20\n",
            "750/750 [==============================] - 1s 2ms/step - loss: 0.0895 - mse: 0.0895 - val_loss: 0.0859 - val_mse: 0.0859\n",
            "Epoch 16/20\n",
            "750/750 [==============================] - 1s 2ms/step - loss: 0.0891 - mse: 0.0891 - val_loss: 0.0850 - val_mse: 0.0850\n",
            "Epoch 17/20\n",
            "750/750 [==============================] - 1s 2ms/step - loss: 0.0886 - mse: 0.0886 - val_loss: 0.0851 - val_mse: 0.0851\n",
            "Epoch 18/20\n",
            "750/750 [==============================] - 1s 2ms/step - loss: 0.0895 - mse: 0.0895 - val_loss: 0.0881 - val_mse: 0.0881\n",
            "Epoch 19/20\n",
            "750/750 [==============================] - 1s 2ms/step - loss: 0.0886 - mse: 0.0886 - val_loss: 0.0925 - val_mse: 0.0925\n",
            "Epoch 20/20\n",
            "750/750 [==============================] - 1s 2ms/step - loss: 0.0884 - mse: 0.0884 - val_loss: 0.0852 - val_mse: 0.0852\n",
            "WARNING:tensorflow:Model was constructed with shape (None, 9000, 1) for input KerasTensor(type_spec=TensorSpec(shape=(None, 9000, 1), dtype=tf.float32, name='dense_10_input'), name='dense_10_input', description=\"created by layer 'dense_10_input'\"), but it was called on an input with incompatible shape (32, 1, 1).\n"
          ],
          "name": "stdout"
        },
        {
          "output_type": "execute_result",
          "data": {
            "text/plain": [
              "<matplotlib.collections.PathCollection at 0x7f807e8d4ed0>"
            ]
          },
          "metadata": {
            "tags": []
          },
          "execution_count": 40
        },
        {
          "output_type": "display_data",
          "data": {
            "image/png": "[encoded data removed]",
            "text/plain": [
              "<Figure size 432x288 with 1 Axes>"
            ]
          },
          "metadata": {
            "tags": [],
            "needs_background": "light"
          }
        }
      ]
    },
    {
      "cell_type": "code",
      "metadata": {
        "colab": {
          "base_uri": "https://localhost:8080/",
          "height": 282
        },
        "id": "iXo1mbwcGNZe",
        "outputId": "057a3ee6-2416-4843-8651-ff5b846dd62a"
      },
      "source": [
        "plt.scatter(x_test,xpredict.reshape(16800))"
      ],
      "execution_count": 41,
      "outputs": [
        {
          "output_type": "execute_result",
          "data": {
            "text/plain": [
              "<matplotlib.collections.PathCollection at 0x7f8079a37fd0>"
            ]
          },
          "metadata": {
            "tags": []
          },
          "execution_count": 41
        },
        {
          "output_type": "display_data",
          "data": {
            "image/png": "[encoded data removed]",
            "text/plain": [
              "<Figure size 432x288 with 1 Axes>"
            ]
          },
          "metadata": {
            "tags": [],
            "needs_background": "light"
          }
        }
      ]
    },
    {
      "cell_type": "code",
      "metadata": {
        "colab": {
          "base_uri": "https://localhost:8080/"
        },
        "id": "CMTOqnhmp8xx",
        "outputId": "e31ad601-42e3-48a9-d99d-10c1fa1c8bac"
      },
      "source": [
        "y_test=y_test.to_numpy()\n",
        "y_test=y_test.reshape(16800)\n",
        "mae(y_test, xpredict.reshape(16800)),mse(y_test, xpredict.reshape(16800)),rmse(y_test,xpredict.reshape(16800)),r2_square(y_test,xpredict.reshape(16800))"
      ],
      "execution_count": 42,
      "outputs": [
        {
          "output_type": "execute_result",
          "data": {
            "text/plain": [
              "(0.22501245500398998,\n",
              " 0.08667394571455828,\n",
              " 0.2944043914661571,\n",
              " 0.8505496821061056)"
            ]
          },
          "metadata": {
            "tags": []
          },
          "execution_count": 42
        }
      ]
    },
    {
      "cell_type": "code",
      "metadata": {
        "colab": {
          "base_uri": "https://localhost:8080/",
          "height": 1000
        },
        "id": "C51l1bQcLCji",
        "outputId": "e4a3ae3c-1e71-4b90-a455-7cd0200102cf"
      },
      "source": [
        "#Case 5\n",
        "case_five = model3()\n",
        "case_five.fit(x_train, y_train, epochs = 20, batch_size = 12, validation_data = (x_valid,y_valid))\n",
        "xpredict = case_five.predict(x_test) #.reshape(16800)\n",
        "plt.scatter(x_test,y_test)"
      ],
      "execution_count": 44,
      "outputs": [
        {
          "output_type": "stream",
          "text": [
            "Epoch 1/20\n",
            "WARNING:tensorflow:Model was constructed with shape (None, 9000, 1) for input KerasTensor(type_spec=TensorSpec(shape=(None, 9000, 1), dtype=tf.float32, name='dense_14_input'), name='dense_14_input', description=\"created by layer 'dense_14_input'\"), but it was called on an input with incompatible shape (12, 1, 1).\n",
            "WARNING:tensorflow:Model was constructed with shape (None, 9000, 1) for input KerasTensor(type_spec=TensorSpec(shape=(None, 9000, 1), dtype=tf.float32, name='dense_14_input'), name='dense_14_input', description=\"created by layer 'dense_14_input'\"), but it was called on an input with incompatible shape (12, 1, 1).\n",
            "718/750 [===========================>..] - ETA: 0s - loss: 38.3695 - mse: 38.3695WARNING:tensorflow:Model was constructed with shape (None, 9000, 1) for input KerasTensor(type_spec=TensorSpec(shape=(None, 9000, 1), dtype=tf.float32, name='dense_14_input'), name='dense_14_input', description=\"created by layer 'dense_14_input'\"), but it was called on an input with incompatible shape (12, 1, 1).\n",
            "750/750 [==============================] - 2s 2ms/step - loss: 37.4358 - mse: 37.4358 - val_loss: 16.1076 - val_mse: 16.1076\n",
            "Epoch 2/20\n",
            "750/750 [==============================] - 1s 2ms/step - loss: 8.3365 - mse: 8.3365 - val_loss: 3.3181 - val_mse: 3.3181\n",
            "Epoch 3/20\n",
            "750/750 [==============================] - 1s 2ms/step - loss: 1.6574 - mse: 1.6574 - val_loss: 0.7878 - val_mse: 0.7878\n",
            "Epoch 4/20\n",
            "750/750 [==============================] - 1s 2ms/step - loss: 0.6435 - mse: 0.6435 - val_loss: 0.5755 - val_mse: 0.5755\n",
            "Epoch 5/20\n",
            "750/750 [==============================] - 1s 2ms/step - loss: 0.5791 - mse: 0.5791 - val_loss: 0.5592 - val_mse: 0.5592\n",
            "Epoch 6/20\n",
            "750/750 [==============================] - 1s 2ms/step - loss: 0.3973 - mse: 0.3973 - val_loss: 0.2217 - val_mse: 0.2217\n",
            "Epoch 7/20\n",
            "750/750 [==============================] - 1s 2ms/step - loss: 0.1955 - mse: 0.1955 - val_loss: 0.1668 - val_mse: 0.1668\n",
            "Epoch 8/20\n",
            "750/750 [==============================] - 1s 2ms/step - loss: 0.1512 - mse: 0.1512 - val_loss: 0.1299 - val_mse: 0.1299\n",
            "Epoch 9/20\n",
            "750/750 [==============================] - 1s 2ms/step - loss: 0.1164 - mse: 0.1164 - val_loss: 0.0988 - val_mse: 0.0988\n",
            "Epoch 10/20\n",
            "750/750 [==============================] - 1s 2ms/step - loss: 0.0762 - mse: 0.0762 - val_loss: 0.0499 - val_mse: 0.0499\n",
            "Epoch 11/20\n",
            "750/750 [==============================] - 1s 2ms/step - loss: 0.0274 - mse: 0.0274 - val_loss: 0.0102 - val_mse: 0.0102\n",
            "Epoch 12/20\n",
            "750/750 [==============================] - 1s 2ms/step - loss: 0.0057 - mse: 0.0057 - val_loss: 0.0030 - val_mse: 0.0030\n",
            "Epoch 13/20\n",
            "750/750 [==============================] - 1s 2ms/step - loss: 0.0022 - mse: 0.0022 - val_loss: 0.0017 - val_mse: 0.0017\n",
            "Epoch 14/20\n",
            "750/750 [==============================] - 1s 2ms/step - loss: 0.0014 - mse: 0.0014 - val_loss: 0.0012 - val_mse: 0.0012\n",
            "Epoch 15/20\n",
            "750/750 [==============================] - 1s 2ms/step - loss: 0.0010 - mse: 0.0010 - val_loss: 8.6059e-04 - val_mse: 8.6059e-04\n",
            "Epoch 16/20\n",
            "750/750 [==============================] - 1s 2ms/step - loss: 8.3867e-04 - mse: 8.3867e-04 - val_loss: 7.6489e-04 - val_mse: 7.6489e-04\n",
            "Epoch 17/20\n",
            "750/750 [==============================] - 1s 2ms/step - loss: 7.1864e-04 - mse: 7.1864e-04 - val_loss: 5.7519e-04 - val_mse: 5.7519e-04\n",
            "Epoch 18/20\n",
            "750/750 [==============================] - 1s 2ms/step - loss: 6.5801e-04 - mse: 6.5801e-04 - val_loss: 6.8381e-04 - val_mse: 6.8381e-04\n",
            "Epoch 19/20\n",
            "750/750 [==============================] - 1s 2ms/step - loss: 5.6352e-04 - mse: 5.6352e-04 - val_loss: 6.0293e-04 - val_mse: 6.0293e-04\n",
            "Epoch 20/20\n",
            "750/750 [==============================] - 1s 2ms/step - loss: 4.8217e-04 - mse: 4.8217e-04 - val_loss: 3.9009e-04 - val_mse: 3.9009e-04\n",
            "WARNING:tensorflow:Model was constructed with shape (None, 9000, 1) for input KerasTensor(type_spec=TensorSpec(shape=(None, 9000, 1), dtype=tf.float32, name='dense_14_input'), name='dense_14_input', description=\"created by layer 'dense_14_input'\"), but it was called on an input with incompatible shape (32, 1, 1).\n"
          ],
          "name": "stdout"
        },
        {
          "output_type": "execute_result",
          "data": {
            "text/plain": [
              "<matplotlib.collections.PathCollection at 0x7f80756c9890>"
            ]
          },
          "metadata": {
            "tags": []
          },
          "execution_count": 44
        },
        {
          "output_type": "display_data",
          "data": {
            "image/png": "[encoded data removed]",
            "text/plain": [
              "<Figure size 432x288 with 1 Axes>"
            ]
          },
          "metadata": {
            "tags": [],
            "needs_background": "light"
          }
        }
      ]
    },
    {
      "cell_type": "code",
      "metadata": {
        "colab": {
          "base_uri": "https://localhost:8080/",
          "height": 282
        },
        "id": "du1N0aAeXeUt",
        "outputId": "a7b15001-f0a3-44ac-f3f7-8ea63efb37a4"
      },
      "source": [
        "plt.scatter(x_test,xpredict.reshape(16800))"
      ],
      "execution_count": 45,
      "outputs": [
        {
          "output_type": "execute_result",
          "data": {
            "text/plain": [
              "<matplotlib.collections.PathCollection at 0x7f8075675390>"
            ]
          },
          "metadata": {
            "tags": []
          },
          "execution_count": 45
        },
        {
          "output_type": "display_data",
          "data": {
            "image/png": "[encoded data removed]",
            "text/plain": [
              "<Figure size 432x288 with 1 Axes>"
            ]
          },
          "metadata": {
            "tags": [],
            "needs_background": "light"
          }
        }
      ]
    },
    {
      "cell_type": "code",
      "metadata": {
        "colab": {
          "base_uri": "https://localhost:8080/"
        },
        "id": "ZOChuQsbqwZQ",
        "outputId": "9614f198-9a86-4d9e-8b39-1994971c4d1a"
      },
      "source": [
        "#y_test=y_test.to_numpy()\n",
        "y_test=y_test.reshape(16800)\n",
        "mae(y_test, xpredict.reshape(16800)),mse(y_test, xpredict.reshape(16800)),rmse(y_test,xpredict.reshape(16800)),r2_square(y_test,xpredict.reshape(16800))"
      ],
      "execution_count": 47,
      "outputs": [
        {
          "output_type": "execute_result",
          "data": {
            "text/plain": [
              "(0.013380657503314849,\n",
              " 0.00036781961983189054,\n",
              " 0.019178624033853172,\n",
              " 0.9993657752781612)"
            ]
          },
          "metadata": {
            "tags": []
          },
          "execution_count": 47
        }
      ]
    },
    {
      "cell_type": "code",
      "metadata": {
        "id": "FLdAvtyQq_bC",
        "colab": {
          "base_uri": "https://localhost:8080/",
          "height": 1000
        },
        "outputId": "b6b90e24-916e-49a8-b71b-a65e88ca895d"
      },
      "source": [
        "#Case 6\n",
        "case_six = model1()\n",
        "case_six.fit(x_train, y_train, epochs = 20, batch_size = 12, validation_data = (x_valid,y_valid))\n",
        "xpredict = case_six.predict(x_test) #.reshape(16800)\n",
        "plt.scatter(x_test,y_test)"
      ],
      "execution_count": 17,
      "outputs": [
        {
          "output_type": "stream",
          "text": [
            "Epoch 1/20\n",
            "WARNING:tensorflow:Model was constructed with shape (None, 9000, 1) for input KerasTensor(type_spec=TensorSpec(shape=(None, 9000, 1), dtype=tf.float32, name='dense_input'), name='dense_input', description=\"created by layer 'dense_input'\"), but it was called on an input with incompatible shape (12, 1, 1).\n",
            "WARNING:tensorflow:Model was constructed with shape (None, 9000, 1) for input KerasTensor(type_spec=TensorSpec(shape=(None, 9000, 1), dtype=tf.float32, name='dense_input'), name='dense_input', description=\"created by layer 'dense_input'\"), but it was called on an input with incompatible shape (12, 1, 1).\n",
            "715/750 [===========================>..] - ETA: 0s - loss: 95.2315 - mse: 95.2315WARNING:tensorflow:Model was constructed with shape (None, 9000, 1) for input KerasTensor(type_spec=TensorSpec(shape=(None, 9000, 1), dtype=tf.float32, name='dense_input'), name='dense_input', description=\"created by layer 'dense_input'\"), but it was called on an input with incompatible shape (12, 1, 1).\n",
            "750/750 [==============================] - 2s 2ms/step - loss: 94.9395 - mse: 94.9395 - val_loss: 87.7087 - val_mse: 87.7087\n",
            "Epoch 2/20\n",
            "750/750 [==============================] - 1s 1ms/step - loss: 81.3533 - mse: 81.3533 - val_loss: 74.8692 - val_mse: 74.8692\n",
            "Epoch 3/20\n",
            "750/750 [==============================] - 1s 1ms/step - loss: 69.1667 - mse: 69.1667 - val_loss: 63.3377 - val_mse: 63.3377\n",
            "Epoch 4/20\n",
            "750/750 [==============================] - 1s 1ms/step - loss: 58.2224 - mse: 58.2224 - val_loss: 52.9915 - val_mse: 52.9915\n",
            "Epoch 5/20\n",
            "750/750 [==============================] - 1s 1ms/step - loss: 48.4172 - mse: 48.4172 - val_loss: 43.7428 - val_mse: 43.7428\n",
            "Epoch 6/20\n",
            "750/750 [==============================] - 1s 1ms/step - loss: 39.6751 - mse: 39.6751 - val_loss: 35.5258 - val_mse: 35.5258\n",
            "Epoch 7/20\n",
            "750/750 [==============================] - 1s 1ms/step - loss: 31.9433 - mse: 31.9433 - val_loss: 28.2957 - val_mse: 28.2957\n",
            "Epoch 8/20\n",
            "750/750 [==============================] - 1s 2ms/step - loss: 25.1791 - mse: 25.1791 - val_loss: 22.0162 - val_mse: 22.0162\n",
            "Epoch 9/20\n",
            "750/750 [==============================] - 1s 1ms/step - loss: 19.3479 - mse: 19.3479 - val_loss: 16.6539 - val_mse: 16.6539\n",
            "Epoch 10/20\n",
            "750/750 [==============================] - 1s 1ms/step - loss: 14.4193 - mse: 14.4193 - val_loss: 12.1747 - val_mse: 12.1747\n",
            "Epoch 11/20\n",
            "750/750 [==============================] - 1s 1ms/step - loss: 10.3546 - mse: 10.3546 - val_loss: 8.5380 - val_mse: 8.5380\n",
            "Epoch 12/20\n",
            "750/750 [==============================] - 1s 1ms/step - loss: 7.1101 - mse: 7.1101 - val_loss: 5.6997 - val_mse: 5.6997\n",
            "Epoch 13/20\n",
            "750/750 [==============================] - 1s 2ms/step - loss: 4.6337 - mse: 4.6337 - val_loss: 3.5951 - val_mse: 3.5951\n",
            "Epoch 14/20\n",
            "750/750 [==============================] - 1s 1ms/step - loss: 2.8568 - mse: 2.8568 - val_loss: 2.1498 - val_mse: 2.1498\n",
            "Epoch 15/20\n",
            "750/750 [==============================] - 1s 1ms/step - loss: 1.6914 - mse: 1.6914 - val_loss: 1.2616 - val_mse: 1.2616\n",
            "Epoch 16/20\n",
            "750/750 [==============================] - 1s 1ms/step - loss: 1.0205 - mse: 1.0205 - val_loss: 0.8001 - val_mse: 0.8001\n",
            "Epoch 17/20\n",
            "750/750 [==============================] - 1s 2ms/step - loss: 0.7074 - mse: 0.7074 - val_loss: 0.6200 - val_mse: 0.6200\n",
            "Epoch 18/20\n",
            "750/750 [==============================] - 1s 1ms/step - loss: 0.5993 - mse: 0.5993 - val_loss: 0.5717 - val_mse: 0.5717\n",
            "Epoch 19/20\n",
            "750/750 [==============================] - 1s 1ms/step - loss: 0.5753 - mse: 0.5753 - val_loss: 0.5656 - val_mse: 0.5656\n",
            "Epoch 20/20\n",
            "750/750 [==============================] - 1s 1ms/step - loss: 0.5726 - mse: 0.5726 - val_loss: 0.5656 - val_mse: 0.5656\n",
            "WARNING:tensorflow:Model was constructed with shape (None, 9000, 1) for input KerasTensor(type_spec=TensorSpec(shape=(None, 9000, 1), dtype=tf.float32, name='dense_input'), name='dense_input', description=\"created by layer 'dense_input'\"), but it was called on an input with incompatible shape (32, 1, 1).\n"
          ],
          "name": "stdout"
        },
        {
          "output_type": "execute_result",
          "data": {
            "text/plain": [
              "<matplotlib.collections.PathCollection at 0x7ff694dd2090>"
            ]
          },
          "metadata": {
            "tags": []
          },
          "execution_count": 17
        },
        {
          "output_type": "display_data",
          "data": {
            "image/png": "[encoded data removed]",
            "text/plain": [
              "<Figure size 432x288 with 1 Axes>"
            ]
          },
          "metadata": {
            "tags": [],
            "needs_background": "light"
          }
        }
      ]
    },
    {
      "cell_type": "code",
      "metadata": {
        "id": "7qP0hir_rRA4",
        "colab": {
          "base_uri": "https://localhost:8080/",
          "height": 282
        },
        "outputId": "cbeeba25-02f6-4958-e7c0-9f2b47a24c2f"
      },
      "source": [
        "plt.scatter(x_test,xpredict.reshape(16800))"
      ],
      "execution_count": 18,
      "outputs": [
        {
          "output_type": "execute_result",
          "data": {
            "text/plain": [
              "<matplotlib.collections.PathCollection at 0x7ff69383da90>"
            ]
          },
          "metadata": {
            "tags": []
          },
          "execution_count": 18
        },
        {
          "output_type": "display_data",
          "data": {
            "image/png": "[encoded data removed]",
            "text/plain": [
              "<Figure size 432x288 with 1 Axes>"
            ]
          },
          "metadata": {
            "tags": [],
            "needs_background": "light"
          }
        }
      ]
    },
    {
      "cell_type": "code",
      "metadata": {
        "id": "WIxzg0ASrRcA",
        "colab": {
          "base_uri": "https://localhost:8080/"
        },
        "outputId": "519b4692-20cd-48b5-8229-1086b63e44c1"
      },
      "source": [
        "y_test=y_test.to_numpy()\n",
        "y_test=y_test.reshape(16800)\n",
        "mae(y_test, xpredict.reshape(16800)),mse(y_test, xpredict.reshape(16800)),rmse(y_test,xpredict.reshape(16800)),r2_square(y_test,xpredict.reshape(16800))"
      ],
      "execution_count": 19,
      "outputs": [
        {
          "output_type": "execute_result",
          "data": {
            "text/plain": [
              "(0.5218000287342237,\n",
              " 0.583968407957284,\n",
              " 0.7641782566635117,\n",
              " -6.358562047981131e-05)"
            ]
          },
          "metadata": {
            "tags": []
          },
          "execution_count": 19
        }
      ]
    },
    {
      "cell_type": "code",
      "metadata": {
        "id": "vziEnCSJrX_l",
        "colab": {
          "base_uri": "https://localhost:8080/",
          "height": 1000
        },
        "outputId": "f243ec71-2c8b-44d7-a80a-670a6c56f351"
      },
      "source": [
        "#Case 7\n",
        "case_seven = model2()\n",
        "case_seven.fit(x_train, y_train, epochs = 20, batch_size = 12, validation_data = (x_valid,y_valid))\n",
        "xpredict = case_seven.predict(x_test) #.reshape(16800)\n",
        "plt.scatter(x_test,y_test)"
      ],
      "execution_count": 21,
      "outputs": [
        {
          "output_type": "stream",
          "text": [
            "Epoch 1/20\n",
            "WARNING:tensorflow:Model was constructed with shape (None, 9000, 1) for input KerasTensor(type_spec=TensorSpec(shape=(None, 9000, 1), dtype=tf.float32, name='dense_4_input'), name='dense_4_input', description=\"created by layer 'dense_4_input'\"), but it was called on an input with incompatible shape (12, 1, 1).\n",
            "WARNING:tensorflow:Model was constructed with shape (None, 9000, 1) for input KerasTensor(type_spec=TensorSpec(shape=(None, 9000, 1), dtype=tf.float32, name='dense_4_input'), name='dense_4_input', description=\"created by layer 'dense_4_input'\"), but it was called on an input with incompatible shape (12, 1, 1).\n",
            "713/750 [===========================>..] - ETA: 0s - loss: 34.3107 - mse: 34.3107WARNING:tensorflow:Model was constructed with shape (None, 9000, 1) for input KerasTensor(type_spec=TensorSpec(shape=(None, 9000, 1), dtype=tf.float32, name='dense_4_input'), name='dense_4_input', description=\"created by layer 'dense_4_input'\"), but it was called on an input with incompatible shape (12, 1, 1).\n",
            "750/750 [==============================] - 1s 1ms/step - loss: 32.6241 - mse: 32.6241 - val_loss: 0.1087 - val_mse: 0.1087\n",
            "Epoch 2/20\n",
            "750/750 [==============================] - 1s 1ms/step - loss: 0.0821 - mse: 0.0821 - val_loss: 0.0693 - val_mse: 0.0693\n",
            "Epoch 3/20\n",
            "750/750 [==============================] - 1s 1ms/step - loss: 0.0587 - mse: 0.0587 - val_loss: 0.0486 - val_mse: 0.0486\n",
            "Epoch 4/20\n",
            "750/750 [==============================] - 1s 1ms/step - loss: 0.0439 - mse: 0.0439 - val_loss: 0.0397 - val_mse: 0.0397\n",
            "Epoch 5/20\n",
            "750/750 [==============================] - 1s 1ms/step - loss: 0.0380 - mse: 0.0380 - val_loss: 0.0354 - val_mse: 0.0354\n",
            "Epoch 6/20\n",
            "750/750 [==============================] - 1s 1ms/step - loss: 0.0331 - mse: 0.0331 - val_loss: 0.0292 - val_mse: 0.0292\n",
            "Epoch 7/20\n",
            "750/750 [==============================] - 1s 1ms/step - loss: 0.0253 - mse: 0.0253 - val_loss: 0.0207 - val_mse: 0.0207\n",
            "Epoch 8/20\n",
            "750/750 [==============================] - 1s 1ms/step - loss: 0.0164 - mse: 0.0164 - val_loss: 0.0123 - val_mse: 0.0123\n",
            "Epoch 9/20\n",
            "750/750 [==============================] - 1s 1ms/step - loss: 0.0099 - mse: 0.0099 - val_loss: 0.0085 - val_mse: 0.0085\n",
            "Epoch 10/20\n",
            "750/750 [==============================] - 1s 1ms/step - loss: 0.0066 - mse: 0.0066 - val_loss: 0.0054 - val_mse: 0.0054\n",
            "Epoch 11/20\n",
            "750/750 [==============================] - 1s 1ms/step - loss: 0.0050 - mse: 0.0050 - val_loss: 0.0040 - val_mse: 0.0040\n",
            "Epoch 12/20\n",
            "750/750 [==============================] - 1s 1ms/step - loss: 0.0037 - mse: 0.0037 - val_loss: 0.0030 - val_mse: 0.0030\n",
            "Epoch 13/20\n",
            "750/750 [==============================] - 1s 1ms/step - loss: 0.0027 - mse: 0.0027 - val_loss: 0.0027 - val_mse: 0.0027\n",
            "Epoch 14/20\n",
            "750/750 [==============================] - 1s 1ms/step - loss: 0.0021 - mse: 0.0021 - val_loss: 0.0017 - val_mse: 0.0017\n",
            "Epoch 15/20\n",
            "750/750 [==============================] - 1s 1ms/step - loss: 0.0016 - mse: 0.0016 - val_loss: 0.0014 - val_mse: 0.0014\n",
            "Epoch 16/20\n",
            "750/750 [==============================] - 1s 1ms/step - loss: 0.0013 - mse: 0.0013 - val_loss: 0.0012 - val_mse: 0.0012\n",
            "Epoch 17/20\n",
            "750/750 [==============================] - 1s 1ms/step - loss: 0.0012 - mse: 0.0012 - val_loss: 9.2761e-04 - val_mse: 9.2761e-04\n",
            "Epoch 18/20\n",
            "750/750 [==============================] - 1s 1ms/step - loss: 9.8143e-04 - mse: 9.8143e-04 - val_loss: 0.0011 - val_mse: 0.0011\n",
            "Epoch 19/20\n",
            "750/750 [==============================] - 1s 1ms/step - loss: 9.1233e-04 - mse: 9.1233e-04 - val_loss: 8.3879e-04 - val_mse: 8.3879e-04\n",
            "Epoch 20/20\n",
            "750/750 [==============================] - 1s 1ms/step - loss: 8.2799e-04 - mse: 8.2799e-04 - val_loss: 0.0011 - val_mse: 0.0011\n",
            "WARNING:tensorflow:Model was constructed with shape (None, 9000, 1) for input KerasTensor(type_spec=TensorSpec(shape=(None, 9000, 1), dtype=tf.float32, name='dense_4_input'), name='dense_4_input', description=\"created by layer 'dense_4_input'\"), but it was called on an input with incompatible shape (32, 1, 1).\n"
          ],
          "name": "stdout"
        },
        {
          "output_type": "execute_result",
          "data": {
            "text/plain": [
              "<matplotlib.collections.PathCollection at 0x7ff691e4e490>"
            ]
          },
          "metadata": {
            "tags": []
          },
          "execution_count": 21
        },
        {
          "output_type": "display_data",
          "data": {
            "image/png": "[encoded data removed]",
            "text/plain": [
              "<Figure size 432x288 with 1 Axes>"
            ]
          },
          "metadata": {
            "tags": [],
            "needs_background": "light"
          }
        }
      ]
    },
    {
      "cell_type": "code",
      "metadata": {
        "id": "CDiaSWodrgtU",
        "colab": {
          "base_uri": "https://localhost:8080/",
          "height": 282
        },
        "outputId": "5defbf77-377f-44be-981e-b8b8a9564f21"
      },
      "source": [
        "plt.scatter(x_test,xpredict.reshape(16800))"
      ],
      "execution_count": 22,
      "outputs": [
        {
          "output_type": "execute_result",
          "data": {
            "text/plain": [
              "<matplotlib.collections.PathCollection at 0x7ff692e62e50>"
            ]
          },
          "metadata": {
            "tags": []
          },
          "execution_count": 22
        },
        {
          "output_type": "display_data",
          "data": {
            "image/png": "[encoded data removed]",
            "text/plain": [
              "<Figure size 432x288 with 1 Axes>"
            ]
          },
          "metadata": {
            "tags": [],
            "needs_background": "light"
          }
        }
      ]
    },
    {
      "cell_type": "code",
      "metadata": {
        "id": "nJNr-UyvriZc",
        "colab": {
          "base_uri": "https://localhost:8080/"
        },
        "outputId": "b1365cca-7173-4f20-f33d-a7141774d985"
      },
      "source": [
        "#y_test=y_test.to_numpy()\n",
        "y_test=y_test.reshape(16800)\n",
        "mae(y_test, xpredict.reshape(16800)),mse(y_test, xpredict.reshape(16800)),rmse(y_test,xpredict.reshape(16800)),r2_square(y_test,xpredict.reshape(16800))"
      ],
      "execution_count": 23,
      "outputs": [
        {
          "output_type": "execute_result",
          "data": {
            "text/plain": [
              "(0.026009273731939474,\n",
              " 0.0010950007879911568,\n",
              " 0.03309079612205117,\n",
              " 0.9981247779856341)"
            ]
          },
          "metadata": {
            "tags": []
          },
          "execution_count": 23
        }
      ]
    },
    {
      "cell_type": "code",
      "metadata": {
        "id": "B2UNkaffrkdH",
        "colab": {
          "base_uri": "https://localhost:8080/",
          "height": 1000
        },
        "outputId": "56a16b06-e8c6-4adc-ba40-db4af7588930"
      },
      "source": [
        "#Case 8\n",
        "case_eight = model3()\n",
        "case_eight.fit(x_train, y_train, epochs = 20, batch_size = 12, validation_data = (x_valid,y_valid))\n",
        "xpredict = case_eight.predict(x_test) #.reshape(16800)\n",
        "plt.scatter(x_test,y_test)"
      ],
      "execution_count": 25,
      "outputs": [
        {
          "output_type": "stream",
          "text": [
            "Epoch 1/20\n",
            "WARNING:tensorflow:Model was constructed with shape (None, 9000, 1) for input KerasTensor(type_spec=TensorSpec(shape=(None, 9000, 1), dtype=tf.float32, name='dense_6_input'), name='dense_6_input', description=\"created by layer 'dense_6_input'\"), but it was called on an input with incompatible shape (12, 1, 1).\n",
            "WARNING:tensorflow:Model was constructed with shape (None, 9000, 1) for input KerasTensor(type_spec=TensorSpec(shape=(None, 9000, 1), dtype=tf.float32, name='dense_6_input'), name='dense_6_input', description=\"created by layer 'dense_6_input'\"), but it was called on an input with incompatible shape (12, 1, 1).\n",
            "704/750 [===========================>..] - ETA: 0s - loss: 40.8060 - mse: 40.8060WARNING:tensorflow:Model was constructed with shape (None, 9000, 1) for input KerasTensor(type_spec=TensorSpec(shape=(None, 9000, 1), dtype=tf.float32, name='dense_6_input'), name='dense_6_input', description=\"created by layer 'dense_6_input'\"), but it was called on an input with incompatible shape (12, 1, 1).\n",
            "750/750 [==============================] - 2s 2ms/step - loss: 39.2071 - mse: 39.2071 - val_loss: 14.5061 - val_mse: 14.5061\n",
            "Epoch 2/20\n",
            "750/750 [==============================] - 1s 2ms/step - loss: 7.3146 - mse: 7.3146 - val_loss: 2.7559 - val_mse: 2.7559\n",
            "Epoch 3/20\n",
            "750/750 [==============================] - 1s 2ms/step - loss: 1.3980 - mse: 1.3980 - val_loss: 0.7025 - val_mse: 0.7025\n",
            "Epoch 4/20\n",
            "750/750 [==============================] - 1s 1ms/step - loss: 0.6082 - mse: 0.6082 - val_loss: 0.5611 - val_mse: 0.5611\n",
            "Epoch 5/20\n",
            "750/750 [==============================] - 1s 2ms/step - loss: 0.4542 - mse: 0.4542 - val_loss: 0.2855 - val_mse: 0.2855\n",
            "Epoch 6/20\n",
            "750/750 [==============================] - 1s 2ms/step - loss: 0.2317 - mse: 0.2317 - val_loss: 0.1872 - val_mse: 0.1872\n",
            "Epoch 7/20\n",
            "750/750 [==============================] - 1s 1ms/step - loss: 0.1546 - mse: 0.1546 - val_loss: 0.1121 - val_mse: 0.1121\n",
            "Epoch 8/20\n",
            "750/750 [==============================] - 1s 1ms/step - loss: 0.0757 - mse: 0.0757 - val_loss: 0.0419 - val_mse: 0.0419\n",
            "Epoch 9/20\n",
            "750/750 [==============================] - 1s 1ms/step - loss: 0.0260 - mse: 0.0260 - val_loss: 0.0148 - val_mse: 0.0148\n",
            "Epoch 10/20\n",
            "750/750 [==============================] - 1s 1ms/step - loss: 0.0101 - mse: 0.0101 - val_loss: 0.0062 - val_mse: 0.0062\n",
            "Epoch 11/20\n",
            "750/750 [==============================] - 1s 2ms/step - loss: 0.0044 - mse: 0.0044 - val_loss: 0.0030 - val_mse: 0.0030\n",
            "Epoch 12/20\n",
            "750/750 [==============================] - 1s 1ms/step - loss: 0.0023 - mse: 0.0023 - val_loss: 0.0019 - val_mse: 0.0019\n",
            "Epoch 13/20\n",
            "750/750 [==============================] - 1s 1ms/step - loss: 0.0015 - mse: 0.0015 - val_loss: 0.0010 - val_mse: 0.0010\n",
            "Epoch 14/20\n",
            "750/750 [==============================] - 1s 2ms/step - loss: 0.0010 - mse: 0.0010 - val_loss: 0.0010 - val_mse: 0.0010\n",
            "Epoch 15/20\n",
            "750/750 [==============================] - 1s 2ms/step - loss: 6.7123e-04 - mse: 6.7123e-04 - val_loss: 5.4011e-04 - val_mse: 5.4011e-04\n",
            "Epoch 16/20\n",
            "750/750 [==============================] - 1s 2ms/step - loss: 5.1190e-04 - mse: 5.1190e-04 - val_loss: 3.3525e-04 - val_mse: 3.3525e-04\n",
            "Epoch 17/20\n",
            "750/750 [==============================] - 1s 2ms/step - loss: 3.9437e-04 - mse: 3.9437e-04 - val_loss: 4.4567e-04 - val_mse: 4.4567e-04\n",
            "Epoch 18/20\n",
            "750/750 [==============================] - 1s 2ms/step - loss: 3.2401e-04 - mse: 3.2401e-04 - val_loss: 4.3033e-04 - val_mse: 4.3033e-04\n",
            "Epoch 19/20\n",
            "750/750 [==============================] - 1s 2ms/step - loss: 3.3350e-04 - mse: 3.3350e-04 - val_loss: 2.8206e-04 - val_mse: 2.8206e-04\n",
            "Epoch 20/20\n",
            "750/750 [==============================] - 1s 2ms/step - loss: 2.7963e-04 - mse: 2.7963e-04 - val_loss: 1.4650e-04 - val_mse: 1.4650e-04\n",
            "WARNING:tensorflow:Model was constructed with shape (None, 9000, 1) for input KerasTensor(type_spec=TensorSpec(shape=(None, 9000, 1), dtype=tf.float32, name='dense_6_input'), name='dense_6_input', description=\"created by layer 'dense_6_input'\"), but it was called on an input with incompatible shape (32, 1, 1).\n"
          ],
          "name": "stdout"
        },
        {
          "output_type": "execute_result",
          "data": {
            "text/plain": [
              "<matplotlib.collections.PathCollection at 0x7ff690373550>"
            ]
          },
          "metadata": {
            "tags": []
          },
          "execution_count": 25
        },
        {
          "output_type": "display_data",
          "data": {
            "image/png": "[encoded data removed]",
            "text/plain": [
              "<Figure size 432x288 with 1 Axes>"
            ]
          },
          "metadata": {
            "tags": [],
            "needs_background": "light"
          }
        }
      ]
    },
    {
      "cell_type": "code",
      "metadata": {
        "id": "Deazq_vNrtCu",
        "colab": {
          "base_uri": "https://localhost:8080/",
          "height": 282
        },
        "outputId": "8ea4a031-ed64-42a5-a88e-05d7fc6d9bb4"
      },
      "source": [
        "plt.scatter(x_test,xpredict.reshape(16800))"
      ],
      "execution_count": 26,
      "outputs": [
        {
          "output_type": "execute_result",
          "data": {
            "text/plain": [
              "<matplotlib.collections.PathCollection at 0x7ff6902ef550>"
            ]
          },
          "metadata": {
            "tags": []
          },
          "execution_count": 26
        },
        {
          "output_type": "display_data",
          "data": {
            "image/png": "[encoded data removed]",
            "text/plain": [
              "<Figure size 432x288 with 1 Axes>"
            ]
          },
          "metadata": {
            "tags": [],
            "needs_background": "light"
          }
        }
      ]
    },
    {
      "cell_type": "code",
      "metadata": {
        "id": "WPYbic-GruhL",
        "colab": {
          "base_uri": "https://localhost:8080/"
        },
        "outputId": "9be55277-69bc-4fbd-d586-9fdad9646ff6"
      },
      "source": [
        "#y_test=y_test.to_numpy()\n",
        "y_test=y_test.reshape(16800)\n",
        "mae(y_test, xpredict.reshape(16800)),mse(y_test, xpredict.reshape(16800)),rmse(y_test,xpredict.reshape(16800)),r2_square(y_test,xpredict.reshape(16800))"
      ],
      "execution_count": 27,
      "outputs": [
        {
          "output_type": "execute_result",
          "data": {
            "text/plain": [
              "(0.008793611882989522,\n",
              " 0.00015771711923772086,\n",
              " 0.012558547656386101,\n",
              " 0.9997299046564345)"
            ]
          },
          "metadata": {
            "tags": []
          },
          "execution_count": 27
        }
      ]
    },
    {
      "cell_type": "code",
      "metadata": {
        "id": "YypkYTEErwow",
        "colab": {
          "base_uri": "https://localhost:8080/",
          "height": 1000
        },
        "outputId": "e660471e-793b-4fc1-ba6b-786ba3da861d"
      },
      "source": [
        "#Case 9\n",
        "case_nine = model1()\n",
        "case_nine.fit(x_train, y_train, epochs = 20, batch_size = 12, validation_data = (x_valid,y_valid))\n",
        "xpredict = case_nine.predict(x_test) #.reshape(16800)\n",
        "plt.scatter(x_test,y_test)"
      ],
      "execution_count": 37,
      "outputs": [
        {
          "output_type": "stream",
          "text": [
            "Epoch 1/20\n",
            "WARNING:tensorflow:Model was constructed with shape (None, 9000, 1) for input KerasTensor(type_spec=TensorSpec(shape=(None, 9000, 1), dtype=tf.float32, name='dense_10_input'), name='dense_10_input', description=\"created by layer 'dense_10_input'\"), but it was called on an input with incompatible shape (12, 1, 1).\n",
            "WARNING:tensorflow:Model was constructed with shape (None, 9000, 1) for input KerasTensor(type_spec=TensorSpec(shape=(None, 9000, 1), dtype=tf.float32, name='dense_10_input'), name='dense_10_input', description=\"created by layer 'dense_10_input'\"), but it was called on an input with incompatible shape (12, 1, 1).\n",
            "707/750 [===========================>..] - ETA: 0s - loss: 95.1652 - mse: 95.1652WARNING:tensorflow:Model was constructed with shape (None, 9000, 1) for input KerasTensor(type_spec=TensorSpec(shape=(None, 9000, 1), dtype=tf.float32, name='dense_10_input'), name='dense_10_input', description=\"created by layer 'dense_10_input'\"), but it was called on an input with incompatible shape (12, 1, 1).\n",
            "750/750 [==============================] - 2s 2ms/step - loss: 94.7347 - mse: 94.7347 - val_loss: 88.0758 - val_mse: 88.0758\n",
            "Epoch 2/20\n",
            "750/750 [==============================] - 1s 2ms/step - loss: 81.1508 - mse: 81.1508 - val_loss: 75.2108 - val_mse: 75.2108\n",
            "Epoch 3/20\n",
            "750/750 [==============================] - 1s 2ms/step - loss: 68.9809 - mse: 68.9809 - val_loss: 63.6538 - val_mse: 63.6538\n",
            "Epoch 4/20\n",
            "750/750 [==============================] - 1s 1ms/step - loss: 58.0526 - mse: 58.0526 - val_loss: 53.2821 - val_mse: 53.2821\n",
            "Epoch 5/20\n",
            "750/750 [==============================] - 1s 1ms/step - loss: 48.2626 - mse: 48.2626 - val_loss: 44.0077 - val_mse: 44.0077\n",
            "Epoch 6/20\n",
            "750/750 [==============================] - 1s 1ms/step - loss: 39.5368 - mse: 39.5368 - val_loss: 35.7694 - val_mse: 35.7694\n",
            "Epoch 7/20\n",
            "750/750 [==============================] - 1s 1ms/step - loss: 31.8188 - mse: 31.8188 - val_loss: 28.5146 - val_mse: 28.5146\n",
            "Epoch 8/20\n",
            "750/750 [==============================] - 1s 2ms/step - loss: 25.0686 - mse: 25.0686 - val_loss: 22.2132 - val_mse: 22.2132\n",
            "Epoch 9/20\n",
            "750/750 [==============================] - 1s 2ms/step - loss: 19.2523 - mse: 19.2523 - val_loss: 16.8250 - val_mse: 16.8250\n",
            "Epoch 10/20\n",
            "750/750 [==============================] - 1s 1ms/step - loss: 14.3369 - mse: 14.3369 - val_loss: 12.3258 - val_mse: 12.3258\n",
            "Epoch 11/20\n",
            "750/750 [==============================] - 1s 2ms/step - loss: 10.2848 - mse: 10.2848 - val_loss: 8.6676 - val_mse: 8.6676\n",
            "Epoch 12/20\n",
            "750/750 [==============================] - 1s 2ms/step - loss: 7.0548 - mse: 7.0548 - val_loss: 5.8097 - val_mse: 5.8097\n",
            "Epoch 13/20\n",
            "750/750 [==============================] - 1s 2ms/step - loss: 4.5921 - mse: 4.5921 - val_loss: 3.6882 - val_mse: 3.6882\n",
            "Epoch 14/20\n",
            "750/750 [==============================] - 1s 2ms/step - loss: 2.8263 - mse: 2.8263 - val_loss: 2.2237 - val_mse: 2.2237\n",
            "Epoch 15/20\n",
            "750/750 [==============================] - 1s 2ms/step - loss: 1.6689 - mse: 1.6689 - val_loss: 1.3181 - val_mse: 1.3181\n",
            "Epoch 16/20\n",
            "750/750 [==============================] - 2s 2ms/step - loss: 1.0070 - mse: 1.0070 - val_loss: 0.8447 - val_mse: 0.8447\n",
            "Epoch 17/20\n",
            "750/750 [==============================] - 1s 2ms/step - loss: 0.6976 - mse: 0.6976 - val_loss: 0.6495 - val_mse: 0.6495\n",
            "Epoch 18/20\n",
            "750/750 [==============================] - 1s 2ms/step - loss: 0.5923 - mse: 0.5923 - val_loss: 0.5956 - val_mse: 0.5956\n",
            "Epoch 19/20\n",
            "750/750 [==============================] - 1s 1ms/step - loss: 0.5697 - mse: 0.5697 - val_loss: 0.5859 - val_mse: 0.5859\n",
            "Epoch 20/20\n",
            "750/750 [==============================] - 1s 1ms/step - loss: 0.5674 - mse: 0.5674 - val_loss: 0.5848 - val_mse: 0.5848\n",
            "WARNING:tensorflow:Model was constructed with shape (None, 9000, 1) for input KerasTensor(type_spec=TensorSpec(shape=(None, 9000, 1), dtype=tf.float32, name='dense_10_input'), name='dense_10_input', description=\"created by layer 'dense_10_input'\"), but it was called on an input with incompatible shape (32, 1, 1).\n"
          ],
          "name": "stdout"
        },
        {
          "output_type": "execute_result",
          "data": {
            "text/plain": [
              "<matplotlib.collections.PathCollection at 0x7ff694dd09d0>"
            ]
          },
          "metadata": {
            "tags": []
          },
          "execution_count": 37
        },
        {
          "output_type": "display_data",
          "data": {
            "image/png": "[encoded data removed]",
            "text/plain": [
              "<Figure size 432x288 with 1 Axes>"
            ]
          },
          "metadata": {
            "tags": [],
            "needs_background": "light"
          }
        }
      ]
    },
    {
      "cell_type": "code",
      "metadata": {
        "id": "pEy1neyur5L_",
        "colab": {
          "base_uri": "https://localhost:8080/",
          "height": 282
        },
        "outputId": "e58fd952-82d4-4430-e1ae-548dba3f7484"
      },
      "source": [
        "plt.scatter(x_test,xpredict.reshape(16800))"
      ],
      "execution_count": 38,
      "outputs": [
        {
          "output_type": "execute_result",
          "data": {
            "text/plain": [
              "<matplotlib.collections.PathCollection at 0x7ff6937a5b10>"
            ]
          },
          "metadata": {
            "tags": []
          },
          "execution_count": 38
        },
        {
          "output_type": "display_data",
          "data": {
            "image/png": "[encoded data removed]",
            "text/plain": [
              "<Figure size 432x288 with 1 Axes>"
            ]
          },
          "metadata": {
            "tags": [],
            "needs_background": "light"
          }
        }
      ]
    },
    {
      "cell_type": "code",
      "metadata": {
        "id": "5QmB78c_r6T-",
        "colab": {
          "base_uri": "https://localhost:8080/"
        },
        "outputId": "92da681f-9c36-4eee-a9bc-d1cee7ba64bf"
      },
      "source": [
        "y_test=y_test.to_numpy()\n",
        "y_test=y_test.reshape(16800)\n",
        "mae(y_test, xpredict.reshape(16800)),mse(y_test, xpredict.reshape(16800)),rmse(y_test,xpredict.reshape(16800)),r2_square(y_test,xpredict.reshape(16800))"
      ],
      "execution_count": 40,
      "outputs": [
        {
          "output_type": "execute_result",
          "data": {
            "text/plain": [
              "(0.519155573093052,\n",
              " 0.5817866130474545,\n",
              " 0.7627493776119745,\n",
              " -9.141800834444602e-05)"
            ]
          },
          "metadata": {
            "tags": []
          },
          "execution_count": 40
        }
      ]
    },
    {
      "cell_type": "code",
      "metadata": {
        "colab": {
          "base_uri": "https://localhost:8080/",
          "height": 1000
        },
        "id": "LdfgpW8Jr8_g",
        "outputId": "b77eba73-64e3-4327-bdad-19f2269c4502"
      },
      "source": [
        "#Case 10\n",
        "case_ten = model3()\n",
        "case_ten.fit(x_train, y_train, epochs = 20, batch_size = 12, validation_data = (x_valid,y_valid))\n",
        "xpredict = case_ten.predict(x_test) #.reshape(16800)\n",
        "plt.scatter(x_test,y_test)"
      ],
      "execution_count": 42,
      "outputs": [
        {
          "output_type": "stream",
          "text": [
            "Epoch 1/20\n",
            "WARNING:tensorflow:Model was constructed with shape (None, 9000, 1) for input KerasTensor(type_spec=TensorSpec(shape=(None, 9000, 1), dtype=tf.float32, name='dense_14_input'), name='dense_14_input', description=\"created by layer 'dense_14_input'\"), but it was called on an input with incompatible shape (12, 1, 1).\n",
            "WARNING:tensorflow:Model was constructed with shape (None, 9000, 1) for input KerasTensor(type_spec=TensorSpec(shape=(None, 9000, 1), dtype=tf.float32, name='dense_14_input'), name='dense_14_input', description=\"created by layer 'dense_14_input'\"), but it was called on an input with incompatible shape (12, 1, 1).\n",
            "732/750 [============================>.] - ETA: 0s - loss: 43.4790 - mse: 43.4790WARNING:tensorflow:Model was constructed with shape (None, 9000, 1) for input KerasTensor(type_spec=TensorSpec(shape=(None, 9000, 1), dtype=tf.float32, name='dense_14_input'), name='dense_14_input', description=\"created by layer 'dense_14_input'\"), but it was called on an input with incompatible shape (12, 1, 1).\n",
            "750/750 [==============================] - 2s 2ms/step - loss: 42.9070 - mse: 42.9070 - val_loss: 18.9449 - val_mse: 18.9449\n",
            "Epoch 2/20\n",
            "750/750 [==============================] - 1s 2ms/step - loss: 9.8881 - mse: 9.8881 - val_loss: 4.1678 - val_mse: 4.1678\n",
            "Epoch 3/20\n",
            "750/750 [==============================] - 1s 1ms/step - loss: 2.0041 - mse: 2.0041 - val_loss: 0.9307 - val_mse: 0.9307\n",
            "Epoch 4/20\n",
            "750/750 [==============================] - 1s 1ms/step - loss: 0.6613 - mse: 0.6613 - val_loss: 0.5929 - val_mse: 0.5929\n",
            "Epoch 5/20\n",
            "750/750 [==============================] - 1s 1ms/step - loss: 0.5639 - mse: 0.5639 - val_loss: 0.5786 - val_mse: 0.5786\n",
            "Epoch 6/20\n",
            "750/750 [==============================] - 1s 1ms/step - loss: 0.5563 - mse: 0.5563 - val_loss: 0.5616 - val_mse: 0.5616\n",
            "Epoch 7/20\n",
            "750/750 [==============================] - 1s 2ms/step - loss: 0.3161 - mse: 0.3161 - val_loss: 0.1975 - val_mse: 0.1975\n",
            "Epoch 8/20\n",
            "750/750 [==============================] - 1s 2ms/step - loss: 0.1698 - mse: 0.1698 - val_loss: 0.1601 - val_mse: 0.1601\n",
            "Epoch 9/20\n",
            "750/750 [==============================] - 1s 1ms/step - loss: 0.1463 - mse: 0.1463 - val_loss: 0.1512 - val_mse: 0.1512\n",
            "Epoch 10/20\n",
            "750/750 [==============================] - 1s 2ms/step - loss: 0.1335 - mse: 0.1335 - val_loss: 0.1308 - val_mse: 0.1308\n",
            "Epoch 11/20\n",
            "750/750 [==============================] - 1s 1ms/step - loss: 0.1227 - mse: 0.1227 - val_loss: 0.1235 - val_mse: 0.1235\n",
            "Epoch 12/20\n",
            "750/750 [==============================] - 1s 1ms/step - loss: 0.1022 - mse: 0.1022 - val_loss: 0.0731 - val_mse: 0.0731\n",
            "Epoch 13/20\n",
            "750/750 [==============================] - 1s 2ms/step - loss: 0.0407 - mse: 0.0407 - val_loss: 0.0224 - val_mse: 0.0224\n",
            "Epoch 14/20\n",
            "750/750 [==============================] - 1s 1ms/step - loss: 0.0141 - mse: 0.0141 - val_loss: 0.0108 - val_mse: 0.0108\n",
            "Epoch 15/20\n",
            "750/750 [==============================] - 1s 1ms/step - loss: 0.0075 - mse: 0.0075 - val_loss: 0.0054 - val_mse: 0.0054\n",
            "Epoch 16/20\n",
            "750/750 [==============================] - 1s 2ms/step - loss: 0.0044 - mse: 0.0044 - val_loss: 0.0032 - val_mse: 0.0032\n",
            "Epoch 17/20\n",
            "750/750 [==============================] - 1s 1ms/step - loss: 0.0028 - mse: 0.0028 - val_loss: 0.0022 - val_mse: 0.0022\n",
            "Epoch 18/20\n",
            "750/750 [==============================] - 1s 1ms/step - loss: 0.0016 - mse: 0.0016 - val_loss: 0.0012 - val_mse: 0.0012\n",
            "Epoch 19/20\n",
            "750/750 [==============================] - 1s 2ms/step - loss: 9.4025e-04 - mse: 9.4025e-04 - val_loss: 6.3758e-04 - val_mse: 6.3758e-04\n",
            "Epoch 20/20\n",
            "750/750 [==============================] - 1s 1ms/step - loss: 5.3999e-04 - mse: 5.3999e-04 - val_loss: 3.1102e-04 - val_mse: 3.1102e-04\n",
            "WARNING:tensorflow:Model was constructed with shape (None, 9000, 1) for input KerasTensor(type_spec=TensorSpec(shape=(None, 9000, 1), dtype=tf.float32, name='dense_14_input'), name='dense_14_input', description=\"created by layer 'dense_14_input'\"), but it was called on an input with incompatible shape (32, 1, 1).\n"
          ],
          "name": "stdout"
        },
        {
          "output_type": "execute_result",
          "data": {
            "text/plain": [
              "<matplotlib.collections.PathCollection at 0x7ff68bb0ab50>"
            ]
          },
          "metadata": {
            "tags": []
          },
          "execution_count": 42
        },
        {
          "output_type": "display_data",
          "data": {
            "image/png": "[encoded data removed]",
            "text/plain": [
              "<Figure size 432x288 with 1 Axes>"
            ]
          },
          "metadata": {
            "tags": [],
            "needs_background": "light"
          }
        }
      ]
    },
    {
      "cell_type": "code",
      "metadata": {
        "id": "8JxNxMNpr9Li",
        "colab": {
          "base_uri": "https://localhost:8080/",
          "height": 282
        },
        "outputId": "aaee1216-5d5e-4389-efdd-d3224ab1c592"
      },
      "source": [
        "plt.scatter(x_test,xpredict.reshape(16800))"
      ],
      "execution_count": 43,
      "outputs": [
        {
          "output_type": "execute_result",
          "data": {
            "text/plain": [
              "<matplotlib.collections.PathCollection at 0x7ff68bafdf50>"
            ]
          },
          "metadata": {
            "tags": []
          },
          "execution_count": 43
        },
        {
          "output_type": "display_data",
          "data": {
            "image/png": "[encoded data removed]",
            "text/plain": [
              "<Figure size 432x288 with 1 Axes>"
            ]
          },
          "metadata": {
            "tags": [],
            "needs_background": "light"
          }
        }
      ]
    },
    {
      "cell_type": "code",
      "metadata": {
        "colab": {
          "base_uri": "https://localhost:8080/"
        },
        "id": "Bne4c584r9cW",
        "outputId": "760018e7-f365-4174-bab5-fb4a8c5cd94e"
      },
      "source": [
        "#y_test=y_test.to_numpy()\n",
        "y_test=y_test.reshape(16800)\n",
        "mae(y_test, xpredict.reshape(16800)),mse(y_test, xpredict.reshape(16800)),rmse(y_test,xpredict.reshape(16800)),r2_square(y_test,xpredict.reshape(16800))"
      ],
      "execution_count": 44,
      "outputs": [
        {
          "output_type": "execute_result",
          "data": {
            "text/plain": [
              "(0.012154353090742955,\n",
              " 0.0003146227935195545,\n",
              " 0.01773760957737977,\n",
              " 0.9994591632934616)"
            ]
          },
          "metadata": {
            "tags": []
          },
          "execution_count": 44
        }
      ]
    }
  ]
}